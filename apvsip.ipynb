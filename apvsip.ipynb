{
  "nbformat": 4,
  "nbformat_minor": 0,
  "metadata": {
    "colab": {
      "name": "apvsip.ipynb",
      "provenance": [],
      "collapsed_sections": []
    },
    "kernelspec": {
      "name": "python3",
      "display_name": "Python 3"
    },
    "accelerator": "TPU"
  },
  "cells": [
    {
      "cell_type": "code",
      "metadata": {
        "id": "rYrQ21g5E29G",
        "colab_type": "code",
        "outputId": "fa61a90f-90ba-4b61-9bf7-957a6a3a9c6a",
        "colab": {
          "base_uri": "https://localhost:8080/",
          "height": 124
        }
      },
      "source": [
        "from google.colab import drive\n",
        "drive.mount('/content/drive')"
      ],
      "execution_count": 0,
      "outputs": [
        {
          "output_type": "stream",
          "text": [
            "Go to this URL in a browser: https://accounts.google.com/o/oauth2/auth?client_id=947318989803-6bn6qk8qdgf4n4g3pfee6491hc0brc4i.apps.googleusercontent.com&redirect_uri=urn%3Aietf%3Awg%3Aoauth%3A2.0%3Aoob&scope=email%20https%3A%2F%2Fwww.googleapis.com%2Fauth%2Fdocs.test%20https%3A%2F%2Fwww.googleapis.com%2Fauth%2Fdrive%20https%3A%2F%2Fwww.googleapis.com%2Fauth%2Fdrive.photos.readonly%20https%3A%2F%2Fwww.googleapis.com%2Fauth%2Fpeopleapi.readonly&response_type=code\n",
            "\n",
            "Enter your authorization code:\n",
            "··········\n",
            "Mounted at /content/drive\n"
          ],
          "name": "stdout"
        }
      ]
    },
    {
      "cell_type": "code",
      "metadata": {
        "id": "tz_8Xo_oWsNW",
        "colab_type": "code",
        "outputId": "0cc7c6eb-2373-4790-e12f-acaf40fccad9",
        "colab": {
          "base_uri": "https://localhost:8080/",
          "height": 575
        }
      },
      "source": [
        "!pip install regex\n",
        "!pip install beautifulsoup4\n",
        "!pip install polyglot\n",
        "!pip install pycld2"
      ],
      "execution_count": 0,
      "outputs": [
        {
          "output_type": "stream",
          "text": [
            "Collecting regex\n",
            "\u001b[?25l  Downloading https://files.pythonhosted.org/packages/fc/1d/13cc7d174cd2d05808abac3f5fb37433e30c4cd93b152d2a9c09c926d7e8/regex-2019.11.1.tar.gz (669kB)\n",
            "\u001b[K     |████████████████████████████████| 675kB 3.4MB/s \n",
            "\u001b[?25hBuilding wheels for collected packages: regex\n",
            "  Building wheel for regex (setup.py) ... \u001b[?25l\u001b[?25hdone\n",
            "  Created wheel for regex: filename=regex-2019.11.1-cp36-cp36m-linux_x86_64.whl size=609238 sha256=9c5f6e2559cd81a3f4dfc1f9154a7c7eb68fd6be01c744a47d19add2128bb24b\n",
            "  Stored in directory: /root/.cache/pip/wheels/5c/c6/c1/0bc8d16ea38c44536a82dd1bec665996e5af37489fa88826b6\n",
            "Successfully built regex\n",
            "Installing collected packages: regex\n",
            "Successfully installed regex-2019.11.1\n",
            "Requirement already satisfied: beautifulsoup4 in /usr/local/lib/python3.6/dist-packages (4.6.3)\n",
            "Collecting polyglot\n",
            "\u001b[?25l  Downloading https://files.pythonhosted.org/packages/e7/98/e24e2489114c5112b083714277204d92d372f5bbe00d5507acf40370edb9/polyglot-16.7.4.tar.gz (126kB)\n",
            "\u001b[K     |████████████████████████████████| 133kB 3.5MB/s \n",
            "\u001b[?25hBuilding wheels for collected packages: polyglot\n",
            "  Building wheel for polyglot (setup.py) ... \u001b[?25l\u001b[?25hdone\n",
            "  Created wheel for polyglot: filename=polyglot-16.7.4-py2.py3-none-any.whl size=52560 sha256=6b643f239a3d6d8b92d885b240aed38bcb4ca0df8b7470888715681df938aff4\n",
            "  Stored in directory: /root/.cache/pip/wheels/5e/91/ef/f1369fdc1203b0a9347d4b24f149b83a305f39ab047986d9da\n",
            "Successfully built polyglot\n",
            "Installing collected packages: polyglot\n",
            "Successfully installed polyglot-16.7.4\n",
            "Collecting pycld2\n",
            "\u001b[?25l  Downloading https://files.pythonhosted.org/packages/21/d2/8b0def84a53c88d0eb27c67b05269fbd16ad68df8c78849e7b5d65e6aec3/pycld2-0.41.tar.gz (41.4MB)\n",
            "\u001b[K     |████████████████████████████████| 41.4MB 56kB/s \n",
            "\u001b[?25hBuilding wheels for collected packages: pycld2\n",
            "  Building wheel for pycld2 (setup.py) ... \u001b[?25l\u001b[?25hdone\n",
            "  Created wheel for pycld2: filename=pycld2-0.41-cp36-cp36m-linux_x86_64.whl size=9833415 sha256=2bfeb4a59ddeace6a523d5a5f60ac712a93a81166b56ed8cf0c4d87759ca256f\n",
            "  Stored in directory: /root/.cache/pip/wheels/c6/8f/e9/08a1a8932a490175bd140206cd86a3dbcfc70498100de11079\n",
            "Successfully built pycld2\n",
            "Installing collected packages: pycld2\n",
            "Successfully installed pycld2-0.41\n"
          ],
          "name": "stdout"
        }
      ]
    },
    {
      "cell_type": "code",
      "metadata": {
        "id": "4gxX_fC86W_m",
        "colab_type": "code",
        "outputId": "bcc6ea58-2987-4640-d0c3-44e6e6eacf8a",
        "colab": {
          "base_uri": "https://localhost:8080/",
          "height": 211
        }
      },
      "source": [
        "pip install PyICU"
      ],
      "execution_count": 0,
      "outputs": [
        {
          "output_type": "stream",
          "text": [
            "Collecting PyICU\n",
            "\u001b[?25l  Downloading https://files.pythonhosted.org/packages/e9/35/211ffb949c68e688ade7d40426de030a24eaec4b6c45330eeb9c0285f43a/PyICU-2.3.1.tar.gz (214kB)\n",
            "\u001b[K     |████████████████████████████████| 215kB 3.4MB/s \n",
            "\u001b[?25hBuilding wheels for collected packages: PyICU\n",
            "  Building wheel for PyICU (setup.py) ... \u001b[?25l\u001b[?25hdone\n",
            "  Created wheel for PyICU: filename=PyICU-2.3.1-cp36-cp36m-linux_x86_64.whl size=1172939 sha256=d525c8db37846fe7e47fcf89b49af415c64c567f0afff1f0b14dc014daa3e6a4\n",
            "  Stored in directory: /root/.cache/pip/wheels/3f/45/7e/ccee9f1fe52787595e92641b5645cdf2cb40096749b39b4422\n",
            "Successfully built PyICU\n",
            "Installing collected packages: PyICU\n",
            "Successfully installed PyICU-2.3.1\n"
          ],
          "name": "stdout"
        }
      ]
    },
    {
      "cell_type": "code",
      "metadata": {
        "id": "isu8GEWcFADE",
        "colab_type": "code",
        "outputId": "9240ac87-3243-4e8f-b739-12e3e898ef1f",
        "colab": {
          "base_uri": "https://localhost:8080/",
          "height": 72
        }
      },
      "source": [
        "import pandas as pd\n",
        "data = pd.read_csv(\"/content/drive/My Drive/finaldata.csv\")"
      ],
      "execution_count": 0,
      "outputs": [
        {
          "output_type": "stream",
          "text": [
            "/usr/local/lib/python3.6/dist-packages/IPython/core/interactiveshell.py:2718: DtypeWarning: Columns (10,11) have mixed types. Specify dtype option on import or set low_memory=False.\n",
            "  interactivity=interactivity, compiler=compiler, result=result)\n"
          ],
          "name": "stderr"
        }
      ]
    },
    {
      "cell_type": "code",
      "metadata": {
        "id": "Zj_g3PtUWXpY",
        "colab_type": "code",
        "colab": {}
      },
      "source": [
        "data = data.iloc[:,1:]"
      ],
      "execution_count": 0,
      "outputs": []
    },
    {
      "cell_type": "code",
      "metadata": {
        "id": "-NyGo_lEea-i",
        "colab_type": "code",
        "outputId": "a5b22a7b-79b3-4dff-c204-f4dbb49becfc",
        "colab": {
          "base_uri": "https://localhost:8080/",
          "height": 35
        }
      },
      "source": [
        "data.shape"
      ],
      "execution_count": 0,
      "outputs": [
        {
          "output_type": "execute_result",
          "data": {
            "text/plain": [
              "(5877355, 13)"
            ]
          },
          "metadata": {
            "tags": []
          },
          "execution_count": 7
        }
      ]
    },
    {
      "cell_type": "code",
      "metadata": {
        "id": "rBhOHKSFWFyr",
        "colab_type": "code",
        "outputId": "6af8a252-a9ff-4eb1-a35f-aa9dbfa59ce8",
        "colab": {
          "base_uri": "https://localhost:8080/",
          "height": 378
        }
      },
      "source": [
        "data.head(5)"
      ],
      "execution_count": 0,
      "outputs": [
        {
          "output_type": "execute_result",
          "data": {
            "text/html": [
              "<div>\n",
              "<style scoped>\n",
              "    .dataframe tbody tr th:only-of-type {\n",
              "        vertical-align: middle;\n",
              "    }\n",
              "\n",
              "    .dataframe tbody tr th {\n",
              "        vertical-align: top;\n",
              "    }\n",
              "\n",
              "    .dataframe thead th {\n",
              "        text-align: right;\n",
              "    }\n",
              "</style>\n",
              "<table border=\"1\" class=\"dataframe\">\n",
              "  <thead>\n",
              "    <tr style=\"text-align: right;\">\n",
              "      <th></th>\n",
              "      <th>account_id</th>\n",
              "      <th>content</th>\n",
              "      <th>created_at</th>\n",
              "      <th>emojis</th>\n",
              "      <th>id</th>\n",
              "      <th>instance</th>\n",
              "      <th>language</th>\n",
              "      <th>media_attachments</th>\n",
              "      <th>mentions</th>\n",
              "      <th>sensitive</th>\n",
              "      <th>spoiler_text</th>\n",
              "      <th>tag_list</th>\n",
              "      <th>uri</th>\n",
              "    </tr>\n",
              "  </thead>\n",
              "  <tbody>\n",
              "    <tr>\n",
              "      <th>0</th>\n",
              "      <td>10496</td>\n",
              "      <td>&lt;p&gt;Sobre la economia &lt;a href=\"https://mastodon...</td>\n",
              "      <td>2018-10-11T10:13:58.053Z</td>\n",
              "      <td>[]</td>\n",
              "      <td>100876473987501351</td>\n",
              "      <td>mastodont.cat</td>\n",
              "      <td>es</td>\n",
              "      <td>[]</td>\n",
              "      <td>[]</td>\n",
              "      <td>False</td>\n",
              "      <td>NaN</td>\n",
              "      <td>['faircoop']</td>\n",
              "      <td>https://mastodont.cat/users/kim/statuses/10087...</td>\n",
              "    </tr>\n",
              "    <tr>\n",
              "      <th>1</th>\n",
              "      <td>48003</td>\n",
              "      <td>&lt;p&gt;Mañana pondre una mierda en mi balcon que s...</td>\n",
              "      <td>2018-10-11T08:08:01.968Z</td>\n",
              "      <td>[]</td>\n",
              "      <td>100875978795423848</td>\n",
              "      <td>mastodont.cat</td>\n",
              "      <td>es</td>\n",
              "      <td>[]</td>\n",
              "      <td>[]</td>\n",
              "      <td>False</td>\n",
              "      <td>NaN</td>\n",
              "      <td>[]</td>\n",
              "      <td>https://mastodont.cat/users/Anscarix/statuses/...</td>\n",
              "    </tr>\n",
              "    <tr>\n",
              "      <th>2</th>\n",
              "      <td>3787</td>\n",
              "      <td>&lt;p&gt;W&lt;/p&gt;</td>\n",
              "      <td>2017-04-07T13:48:39.987Z</td>\n",
              "      <td>[]</td>\n",
              "      <td>29685</td>\n",
              "      <td>hex.bz</td>\n",
              "      <td>en</td>\n",
              "      <td>[]</td>\n",
              "      <td>[]</td>\n",
              "      <td>False</td>\n",
              "      <td>NaN</td>\n",
              "      <td>[]</td>\n",
              "      <td>tag:hex.bz,2017-04-07:objectId=29685:objectTyp...</td>\n",
              "    </tr>\n",
              "    <tr>\n",
              "      <th>3</th>\n",
              "      <td>10496</td>\n",
              "      <td>&lt;p&gt;Si conoceis más proyectos de autogestión, s...</td>\n",
              "      <td>2018-10-11T10:11:39.964Z</td>\n",
              "      <td>[]</td>\n",
              "      <td>100876464938663311</td>\n",
              "      <td>mastodont.cat</td>\n",
              "      <td>es</td>\n",
              "      <td>[]</td>\n",
              "      <td>[]</td>\n",
              "      <td>False</td>\n",
              "      <td>NaN</td>\n",
              "      <td>[]</td>\n",
              "      <td>tag:mastodont.cat,2018-10-11:objectId=10087646...</td>\n",
              "    </tr>\n",
              "    <tr>\n",
              "      <th>4</th>\n",
              "      <td>10496</td>\n",
              "      <td>&lt;p&gt;RiseUP también acepta &lt;a href=\"https://mast...</td>\n",
              "      <td>2018-10-11T08:01:42.371Z</td>\n",
              "      <td>[]</td>\n",
              "      <td>100875953917431863</td>\n",
              "      <td>mastodont.cat</td>\n",
              "      <td>es</td>\n",
              "      <td>[{'id': '419244', 'type': 'image', 'url': 'htt...</td>\n",
              "      <td>['5660', '328']</td>\n",
              "      <td>False</td>\n",
              "      <td>NaN</td>\n",
              "      <td>['faircoop', 'faircoin']</td>\n",
              "      <td>https://mastodont.cat/users/kim/statuses/10087...</td>\n",
              "    </tr>\n",
              "  </tbody>\n",
              "</table>\n",
              "</div>"
            ],
            "text/plain": [
              "   account_id  ...                                                uri\n",
              "0       10496  ...  https://mastodont.cat/users/kim/statuses/10087...\n",
              "1       48003  ...  https://mastodont.cat/users/Anscarix/statuses/...\n",
              "2        3787  ...  tag:hex.bz,2017-04-07:objectId=29685:objectTyp...\n",
              "3       10496  ...  tag:mastodont.cat,2018-10-11:objectId=10087646...\n",
              "4       10496  ...  https://mastodont.cat/users/kim/statuses/10087...\n",
              "\n",
              "[5 rows x 13 columns]"
            ]
          },
          "metadata": {
            "tags": []
          },
          "execution_count": 8
        }
      ]
    },
    {
      "cell_type": "code",
      "metadata": {
        "id": "gjm5ltz4dQpy",
        "colab_type": "code",
        "colab": {}
      },
      "source": [
        "data = data.loc[data[\"language\"] == \"en\"]"
      ],
      "execution_count": 0,
      "outputs": []
    },
    {
      "cell_type": "code",
      "metadata": {
        "id": "cVhMac2RZR0o",
        "colab_type": "code",
        "colab": {}
      },
      "source": [
        "data = data.drop(\"uri\",axis=1)"
      ],
      "execution_count": 0,
      "outputs": []
    },
    {
      "cell_type": "code",
      "metadata": {
        "id": "LKgDx_6Od2iF",
        "colab_type": "code",
        "colab": {}
      },
      "source": [
        "data = data.reset_index()"
      ],
      "execution_count": 0,
      "outputs": []
    },
    {
      "cell_type": "code",
      "metadata": {
        "id": "lq7bn3zufwud",
        "colab_type": "code",
        "colab": {}
      },
      "source": [
        "data = data.iloc[:,1:]"
      ],
      "execution_count": 0,
      "outputs": []
    },
    {
      "cell_type": "code",
      "metadata": {
        "id": "Urzy8d69gCGG",
        "colab_type": "code",
        "outputId": "c38eeb44-4d00-4d43-b264-35c0eb360fc2",
        "colab": {
          "base_uri": "https://localhost:8080/",
          "height": 35
        }
      },
      "source": [
        "data[\"instance\"].unique().size"
      ],
      "execution_count": 0,
      "outputs": [
        {
          "output_type": "execute_result",
          "data": {
            "text/plain": [
              "898"
            ]
          },
          "metadata": {
            "tags": []
          },
          "execution_count": 27
        }
      ]
    },
    {
      "cell_type": "code",
      "metadata": {
        "id": "bwOXfDJ7gcII",
        "colab_type": "code",
        "outputId": "35aefce6-2007-4986-e53c-cdb41fc457d1",
        "colab": {
          "base_uri": "https://localhost:8080/",
          "height": 366
        }
      },
      "source": [
        "import seaborn as sns\n",
        "import matplotlib.pyplot as plt\n",
        "instances = data[\"instance\"].value_counts()\n",
        "instances2 = instances[:10,]\n",
        "plt.figure(figsize=(20,5))\n",
        "sns.barplot(instances2.index,instances2.values,alpha=0.8)\n",
        "plt.title('Instances')\n",
        "plt.ylabel('Number of toots per instance', fontsize=12)\n",
        "plt.xlabel('instance', fontsize=7)\n",
        "plt.show()"
      ],
      "execution_count": 0,
      "outputs": [
        {
          "output_type": "display_data",
          "data": {
            "image/png": "[encoded data removed]",
            "text/plain": [
              "<Figure size 1440x360 with 1 Axes>"
            ]
          },
          "metadata": {
            "tags": []
          }
        }
      ]
    },
    {
      "cell_type": "code",
      "metadata": {
        "id": "XrGm1QoyOI0c",
        "colab_type": "code",
        "colab": {}
      },
      "source": [
        "info  = pd.DataFrame(instances2)"
      ],
      "execution_count": 0,
      "outputs": []
    },
    {
      "cell_type": "code",
      "metadata": {
        "id": "MP8A4vnhPzDr",
        "colab_type": "code",
        "outputId": "96089ccf-0c64-46a4-f10b-5537c480bbb9",
        "colab": {
          "base_uri": "https://localhost:8080/",
          "height": 355
        }
      },
      "source": [
        "info = info.reset_index()\n",
        "info = info.rename(columns = {\"index\":\"instance\",\"instance\":\"toots\"})\n",
        "info"
      ],
      "execution_count": 0,
      "outputs": [
        {
          "output_type": "execute_result",
          "data": {
            "text/html": [
              "<div>\n",
              "<style scoped>\n",
              "    .dataframe tbody tr th:only-of-type {\n",
              "        vertical-align: middle;\n",
              "    }\n",
              "\n",
              "    .dataframe tbody tr th {\n",
              "        vertical-align: top;\n",
              "    }\n",
              "\n",
              "    .dataframe thead th {\n",
              "        text-align: right;\n",
              "    }\n",
              "</style>\n",
              "<table border=\"1\" class=\"dataframe\">\n",
              "  <thead>\n",
              "    <tr style=\"text-align: right;\">\n",
              "      <th></th>\n",
              "      <th>instance</th>\n",
              "      <th>toots</th>\n",
              "    </tr>\n",
              "  </thead>\n",
              "  <tbody>\n",
              "    <tr>\n",
              "      <th>0</th>\n",
              "      <td>mastodon.social</td>\n",
              "      <td>1835862</td>\n",
              "    </tr>\n",
              "    <tr>\n",
              "      <th>1</th>\n",
              "      <td>switter.at</td>\n",
              "      <td>484528</td>\n",
              "    </tr>\n",
              "    <tr>\n",
              "      <th>2</th>\n",
              "      <td>niu.moe</td>\n",
              "      <td>194943</td>\n",
              "    </tr>\n",
              "    <tr>\n",
              "      <th>3</th>\n",
              "      <td>octodon.social</td>\n",
              "      <td>153052</td>\n",
              "    </tr>\n",
              "    <tr>\n",
              "      <th>4</th>\n",
              "      <td>mastodon.art</td>\n",
              "      <td>81259</td>\n",
              "    </tr>\n",
              "    <tr>\n",
              "      <th>5</th>\n",
              "      <td>mamot.fr</td>\n",
              "      <td>68962</td>\n",
              "    </tr>\n",
              "    <tr>\n",
              "      <th>6</th>\n",
              "      <td>knzk.me</td>\n",
              "      <td>67798</td>\n",
              "    </tr>\n",
              "    <tr>\n",
              "      <th>7</th>\n",
              "      <td>awoo.space</td>\n",
              "      <td>62865</td>\n",
              "    </tr>\n",
              "    <tr>\n",
              "      <th>8</th>\n",
              "      <td>mst3k.interlinked.me</td>\n",
              "      <td>55134</td>\n",
              "    </tr>\n",
              "    <tr>\n",
              "      <th>9</th>\n",
              "      <td>icosahedron.website</td>\n",
              "      <td>50459</td>\n",
              "    </tr>\n",
              "  </tbody>\n",
              "</table>\n",
              "</div>"
            ],
            "text/plain": [
              "               instance    toots\n",
              "0       mastodon.social  1835862\n",
              "1            switter.at   484528\n",
              "2               niu.moe   194943\n",
              "3        octodon.social   153052\n",
              "4          mastodon.art    81259\n",
              "5              mamot.fr    68962\n",
              "6               knzk.me    67798\n",
              "7            awoo.space    62865\n",
              "8  mst3k.interlinked.me    55134\n",
              "9   icosahedron.website    50459"
            ]
          },
          "metadata": {
            "tags": []
          },
          "execution_count": 14
        }
      ]
    },
    {
      "cell_type": "code",
      "metadata": {
        "id": "e_4rJRkaTIKt",
        "colab_type": "code",
        "outputId": "370d421c-6afd-4724-92ba-4db113cf29fb",
        "colab": {
          "base_uri": "https://localhost:8080/",
          "height": 355
        }
      },
      "source": [
        "info"
      ],
      "execution_count": 0,
      "outputs": [
        {
          "output_type": "execute_result",
          "data": {
            "text/html": [
              "<div>\n",
              "<style scoped>\n",
              "    .dataframe tbody tr th:only-of-type {\n",
              "        vertical-align: middle;\n",
              "    }\n",
              "\n",
              "    .dataframe tbody tr th {\n",
              "        vertical-align: top;\n",
              "    }\n",
              "\n",
              "    .dataframe thead th {\n",
              "        text-align: right;\n",
              "    }\n",
              "</style>\n",
              "<table border=\"1\" class=\"dataframe\">\n",
              "  <thead>\n",
              "    <tr style=\"text-align: right;\">\n",
              "      <th></th>\n",
              "      <th>instance</th>\n",
              "      <th>toots</th>\n",
              "    </tr>\n",
              "  </thead>\n",
              "  <tbody>\n",
              "    <tr>\n",
              "      <th>0</th>\n",
              "      <td>mastodon.social</td>\n",
              "      <td>1835862</td>\n",
              "    </tr>\n",
              "    <tr>\n",
              "      <th>1</th>\n",
              "      <td>switter.at</td>\n",
              "      <td>484528</td>\n",
              "    </tr>\n",
              "    <tr>\n",
              "      <th>2</th>\n",
              "      <td>niu.moe</td>\n",
              "      <td>194943</td>\n",
              "    </tr>\n",
              "    <tr>\n",
              "      <th>3</th>\n",
              "      <td>octodon.social</td>\n",
              "      <td>153052</td>\n",
              "    </tr>\n",
              "    <tr>\n",
              "      <th>4</th>\n",
              "      <td>mastodon.art</td>\n",
              "      <td>81259</td>\n",
              "    </tr>\n",
              "    <tr>\n",
              "      <th>5</th>\n",
              "      <td>mamot.fr</td>\n",
              "      <td>68962</td>\n",
              "    </tr>\n",
              "    <tr>\n",
              "      <th>6</th>\n",
              "      <td>knzk.me</td>\n",
              "      <td>67798</td>\n",
              "    </tr>\n",
              "    <tr>\n",
              "      <th>7</th>\n",
              "      <td>awoo.space</td>\n",
              "      <td>62865</td>\n",
              "    </tr>\n",
              "    <tr>\n",
              "      <th>8</th>\n",
              "      <td>mst3k.interlinked.me</td>\n",
              "      <td>55134</td>\n",
              "    </tr>\n",
              "    <tr>\n",
              "      <th>9</th>\n",
              "      <td>icosahedron.website</td>\n",
              "      <td>50459</td>\n",
              "    </tr>\n",
              "  </tbody>\n",
              "</table>\n",
              "</div>"
            ],
            "text/plain": [
              "               instance    toots\n",
              "0       mastodon.social  1835862\n",
              "1            switter.at   484528\n",
              "2               niu.moe   194943\n",
              "3        octodon.social   153052\n",
              "4          mastodon.art    81259\n",
              "5              mamot.fr    68962\n",
              "6               knzk.me    67798\n",
              "7            awoo.space    62865\n",
              "8  mst3k.interlinked.me    55134\n",
              "9   icosahedron.website    50459"
            ]
          },
          "metadata": {
            "tags": []
          },
          "execution_count": 15
        }
      ]
    },
    {
      "cell_type": "code",
      "metadata": {
        "id": "b3rpr8CFheBO",
        "colab_type": "code",
        "outputId": "b8c1110d-c1e1-4005-fe4e-0c567d66962e",
        "colab": {
          "base_uri": "https://localhost:8080/",
          "height": 35
        }
      },
      "source": [
        "data.loc[(data[\"instance\"] == \"mastodon.social\") & (data[\"sensitive\"] == True)].shape[0]"
      ],
      "execution_count": 0,
      "outputs": [
        {
          "output_type": "execute_result",
          "data": {
            "text/plain": [
              "101756"
            ]
          },
          "metadata": {
            "tags": []
          },
          "execution_count": 16
        }
      ]
    },
    {
      "cell_type": "code",
      "metadata": {
        "id": "xgEZBmjhT8fa",
        "colab_type": "code",
        "outputId": "49747f81-dd08-4a94-cf85-e80149f2da71",
        "colab": {
          "base_uri": "https://localhost:8080/",
          "height": 35
        }
      },
      "source": [
        "data.loc[(data[\"instance\"] == \"switter.at\") & (data[\"sensitive\"] == True)].shape[0]"
      ],
      "execution_count": 0,
      "outputs": [
        {
          "output_type": "execute_result",
          "data": {
            "text/plain": [
              "175548"
            ]
          },
          "metadata": {
            "tags": []
          },
          "execution_count": 17
        }
      ]
    },
    {
      "cell_type": "code",
      "metadata": {
        "id": "zKBj6KlhT8b7",
        "colab_type": "code",
        "outputId": "e6a0e818-4f35-4f38-98d8-2daf15a718a9",
        "colab": {
          "base_uri": "https://localhost:8080/",
          "height": 35
        }
      },
      "source": [
        "data.loc[(data[\"instance\"] == \"niu.moe\") & (data[\"sensitive\"] == True)].shape[0]"
      ],
      "execution_count": 0,
      "outputs": [
        {
          "output_type": "execute_result",
          "data": {
            "text/plain": [
              "7429"
            ]
          },
          "metadata": {
            "tags": []
          },
          "execution_count": 18
        }
      ]
    },
    {
      "cell_type": "code",
      "metadata": {
        "id": "q-UYte_lT8YR",
        "colab_type": "code",
        "outputId": "d04a2749-1802-49c0-e9e0-6abf0e983d45",
        "colab": {
          "base_uri": "https://localhost:8080/",
          "height": 35
        }
      },
      "source": [
        "data.loc[(data[\"instance\"] == \"octodon.social\") & (data[\"sensitive\"] == True)].shape[0]"
      ],
      "execution_count": 0,
      "outputs": [
        {
          "output_type": "execute_result",
          "data": {
            "text/plain": [
              "16933"
            ]
          },
          "metadata": {
            "tags": []
          },
          "execution_count": 19
        }
      ]
    },
    {
      "cell_type": "code",
      "metadata": {
        "id": "vhqCsWkrT8PI",
        "colab_type": "code",
        "outputId": "ca3a6b5f-8289-46d1-bb7f-1a152f38c76a",
        "colab": {
          "base_uri": "https://localhost:8080/",
          "height": 35
        }
      },
      "source": [
        "data.loc[(data[\"instance\"] == \"mastodon.art\") & (data[\"sensitive\"] == True)].shape[0]"
      ],
      "execution_count": 0,
      "outputs": [
        {
          "output_type": "execute_result",
          "data": {
            "text/plain": [
              "5192"
            ]
          },
          "metadata": {
            "tags": []
          },
          "execution_count": 20
        }
      ]
    },
    {
      "cell_type": "code",
      "metadata": {
        "id": "p-qWgZ82UXKO",
        "colab_type": "code",
        "colab": {}
      },
      "source": [
        ""
      ],
      "execution_count": 0,
      "outputs": []
    },
    {
      "cell_type": "code",
      "metadata": {
        "id": "7FAKm18PUXHq",
        "colab_type": "code",
        "outputId": "aef78c4b-2411-487e-e64e-36198d24fb2a",
        "colab": {
          "base_uri": "https://localhost:8080/",
          "height": 35
        }
      },
      "source": [
        "data.loc[(data[\"instance\"] == \"mastodon.social\") & (data[\"sensitive\"] == True) & (data[\"spoiler_text\"].isnull())].shape[0]"
      ],
      "execution_count": 0,
      "outputs": [
        {
          "output_type": "execute_result",
          "data": {
            "text/plain": [
              "16441"
            ]
          },
          "metadata": {
            "tags": []
          },
          "execution_count": 21
        }
      ]
    },
    {
      "cell_type": "code",
      "metadata": {
        "id": "_FcPMxv-UXE2",
        "colab_type": "code",
        "outputId": "961b911d-b6cc-4975-c56a-f339c9146484",
        "colab": {
          "base_uri": "https://localhost:8080/",
          "height": 35
        }
      },
      "source": [
        "data.loc[(data[\"instance\"] == \"switter.at\") & (data[\"sensitive\"] == True) & (data[\"spoiler_text\"].isnull())].shape[0]"
      ],
      "execution_count": 0,
      "outputs": [
        {
          "output_type": "execute_result",
          "data": {
            "text/plain": [
              "145827"
            ]
          },
          "metadata": {
            "tags": []
          },
          "execution_count": 22
        }
      ]
    },
    {
      "cell_type": "code",
      "metadata": {
        "id": "voHkMYmap2nA",
        "colab_type": "code",
        "outputId": "38272cbe-0b1e-4e04-b5a5-38fb766edefa",
        "colab": {
          "base_uri": "https://localhost:8080/",
          "height": 35
        }
      },
      "source": [
        "data.loc[(data[\"instance\"] == \"niu.moe\") & (data[\"sensitive\"] == True) & (data[\"spoiler_text\"].isnull())].shape[0]"
      ],
      "execution_count": 0,
      "outputs": [
        {
          "output_type": "execute_result",
          "data": {
            "text/plain": [
              "1387"
            ]
          },
          "metadata": {
            "tags": []
          },
          "execution_count": 23
        }
      ]
    },
    {
      "cell_type": "code",
      "metadata": {
        "id": "OkCnJMo8VUn_",
        "colab_type": "code",
        "outputId": "1980204f-e772-46cd-f9f8-cc635f6a78ba",
        "colab": {
          "base_uri": "https://localhost:8080/",
          "height": 35
        }
      },
      "source": [
        "data.loc[(data[\"instance\"] == \"octodon.social\") & (data[\"sensitive\"] == True) & (data[\"spoiler_text\"].isnull())].shape[0]"
      ],
      "execution_count": 0,
      "outputs": [
        {
          "output_type": "execute_result",
          "data": {
            "text/plain": [
              "1079"
            ]
          },
          "metadata": {
            "tags": []
          },
          "execution_count": 24
        }
      ]
    },
    {
      "cell_type": "code",
      "metadata": {
        "id": "TWOKWxACVVUU",
        "colab_type": "code",
        "outputId": "e2dd31cd-ab72-4970-e0ce-9c1ff3f6ea75",
        "colab": {
          "base_uri": "https://localhost:8080/",
          "height": 35
        }
      },
      "source": [
        "data.loc[(data[\"instance\"] == \"mastodon.art\") & (data[\"sensitive\"] == True) & (data[\"spoiler_text\"].isnull())].shape[0]"
      ],
      "execution_count": 0,
      "outputs": [
        {
          "output_type": "execute_result",
          "data": {
            "text/plain": [
              "784"
            ]
          },
          "metadata": {
            "tags": []
          },
          "execution_count": 25
        }
      ]
    },
    {
      "cell_type": "code",
      "metadata": {
        "id": "ldmodqZXaGdh",
        "colab_type": "code",
        "colab": {}
      },
      "source": [
        "data[data[\"content\"].isnull() == True]"
      ],
      "execution_count": 0,
      "outputs": []
    },
    {
      "cell_type": "code",
      "metadata": {
        "id": "sYgL2TUmNzQD",
        "colab_type": "code",
        "colab": {}
      },
      "source": [
        "import regex as re\n",
        "data[\"content\"]=data[\"content\"].str.replace(r'@\\w+', '', case=False,regex=True)"
      ],
      "execution_count": 0,
      "outputs": []
    },
    {
      "cell_type": "code",
      "metadata": {
        "id": "Zcylc3g4b2gG",
        "colab_type": "code",
        "colab": {}
      },
      "source": [
        "data[\"content\"] = data[\"content\"].str.replace(r'</*p>', '', case=False,regex=True)"
      ],
      "execution_count": 0,
      "outputs": []
    },
    {
      "cell_type": "code",
      "metadata": {
        "id": "ov4Zw1fTfq_i",
        "colab_type": "code",
        "colab": {}
      },
      "source": [
        "data.head(5)"
      ],
      "execution_count": 0,
      "outputs": []
    },
    {
      "cell_type": "code",
      "metadata": {
        "id": "SPPUcp0h_0vU",
        "colab_type": "code",
        "colab": {}
      },
      "source": [
        "import json\n",
        "import pandas as pd\n",
        "data2 = [json.loads(line) for line in open('/content/drive/My Drive/instance_metadata.jsonl', 'r')]\n",
        "df = pd.DataFrame(data2)"
      ],
      "execution_count": 0,
      "outputs": []
    },
    {
      "cell_type": "code",
      "metadata": {
        "id": "l1TCj2MLB4j6",
        "colab_type": "code",
        "colab": {}
      },
      "source": [
        "df.head()"
      ],
      "execution_count": 0,
      "outputs": []
    },
    {
      "cell_type": "code",
      "metadata": {
        "id": "ASHqhTAnEZ2R",
        "colab_type": "code",
        "colab": {}
      },
      "source": [
        "data[\"content\"]=data[\"content\"].str.replace(r'http.?://[^\\s]+[\\s]?', '', case=False,regex=True)"
      ],
      "execution_count": 0,
      "outputs": []
    },
    {
      "cell_type": "code",
      "metadata": {
        "id": "rcdfFJ4rWAL5",
        "colab_type": "code",
        "colab": {}
      },
      "source": [
        "from bs4 import BeautifulSoup\n",
        "def htmltagremove(content):\n",
        "    soup = BeautifulSoup(content, 'html.parser')\n",
        "    return soup.get_text()"
      ],
      "execution_count": 0,
      "outputs": []
    },
    {
      "cell_type": "code",
      "metadata": {
        "id": "w6M3S1fbbiF5",
        "colab_type": "code",
        "colab": {}
      },
      "source": [
        "data[\"content\"]='\"\"\"'+data[\"content\"]+'\"\"\"'"
      ],
      "execution_count": 0,
      "outputs": []
    },
    {
      "cell_type": "code",
      "metadata": {
        "id": "lEMJn8ageTrP",
        "colab_type": "code",
        "colab": {}
      },
      "source": [
        "data.head()"
      ],
      "execution_count": 0,
      "outputs": []
    },
    {
      "cell_type": "code",
      "metadata": {
        "id": "2HZ7r82jhBQH",
        "colab_type": "code",
        "colab": {}
      },
      "source": [
        "data = data[data[\"content\"].notnull()]\n"
      ],
      "execution_count": 0,
      "outputs": []
    },
    {
      "cell_type": "code",
      "metadata": {
        "id": "X4RzWLv9WA2r",
        "colab_type": "code",
        "colab": {}
      },
      "source": [
        "data[\"content\"] = data[\"content\"].apply(lambda x:htmltagremove(x))"
      ],
      "execution_count": 0,
      "outputs": []
    },
    {
      "cell_type": "code",
      "metadata": {
        "id": "qrqe56181q0Z",
        "colab_type": "code",
        "outputId": "95e3fe6b-266b-4a78-f2e0-2271a5d5e43a",
        "colab": {
          "base_uri": "https://localhost:8080/",
          "height": 517
        }
      },
      "source": [
        "data.head()"
      ],
      "execution_count": 0,
      "outputs": [
        {
          "output_type": "execute_result",
          "data": {
            "text/html": [
              "<div>\n",
              "<style scoped>\n",
              "    .dataframe tbody tr th:only-of-type {\n",
              "        vertical-align: middle;\n",
              "    }\n",
              "\n",
              "    .dataframe tbody tr th {\n",
              "        vertical-align: top;\n",
              "    }\n",
              "\n",
              "    .dataframe thead th {\n",
              "        text-align: right;\n",
              "    }\n",
              "</style>\n",
              "<table border=\"1\" class=\"dataframe\">\n",
              "  <thead>\n",
              "    <tr style=\"text-align: right;\">\n",
              "      <th></th>\n",
              "      <th>account_id</th>\n",
              "      <th>content</th>\n",
              "      <th>created_at</th>\n",
              "      <th>emojis</th>\n",
              "      <th>id</th>\n",
              "      <th>instance</th>\n",
              "      <th>language</th>\n",
              "      <th>media_attachments</th>\n",
              "      <th>mentions</th>\n",
              "      <th>sensitive</th>\n",
              "      <th>spoiler_text</th>\n",
              "      <th>tag_list</th>\n",
              "    </tr>\n",
              "  </thead>\n",
              "  <tbody>\n",
              "    <tr>\n",
              "      <th>0</th>\n",
              "      <td>3787</td>\n",
              "      <td>\"\"\"W\"\"\"</td>\n",
              "      <td>2017-04-07T13:48:39.987Z</td>\n",
              "      <td>[]</td>\n",
              "      <td>29685</td>\n",
              "      <td>hex.bz</td>\n",
              "      <td>en</td>\n",
              "      <td>[]</td>\n",
              "      <td>[]</td>\n",
              "      <td>False</td>\n",
              "      <td>NaN</td>\n",
              "      <td>[]</td>\n",
              "    </tr>\n",
              "    <tr>\n",
              "      <th>1</th>\n",
              "      <td>1</td>\n",
              "      <td>\"\"\"Brexit showed “no plan and little planning,...</td>\n",
              "      <td>2018-10-11T09:33:53.487Z</td>\n",
              "      <td>[]</td>\n",
              "      <td>100876316394570209</td>\n",
              "      <td>x0r.be</td>\n",
              "      <td>en</td>\n",
              "      <td>[]</td>\n",
              "      <td>[]</td>\n",
              "      <td>True</td>\n",
              "      <td>Brexit</td>\n",
              "      <td>[]</td>\n",
              "    </tr>\n",
              "    <tr>\n",
              "      <th>2</th>\n",
              "      <td>13917</td>\n",
              "      <td>\"\"\"Faites comme moi, soutenez Framasoft ! clas...</td>\n",
              "      <td>2018-10-11T04:10:52.312Z</td>\n",
              "      <td>[]</td>\n",
              "      <td>100875046240630603</td>\n",
              "      <td>x0r.be</td>\n",
              "      <td>en</td>\n",
              "      <td>[]</td>\n",
              "      <td>[]</td>\n",
              "      <td>False</td>\n",
              "      <td>NaN</td>\n",
              "      <td>[]</td>\n",
              "    </tr>\n",
              "    <tr>\n",
              "      <th>3</th>\n",
              "      <td>49467</td>\n",
              "      <td>\"\"\"Hugs galore tonight.\"\"\"</td>\n",
              "      <td>2018-10-11T04:07:39.263Z</td>\n",
              "      <td>[]</td>\n",
              "      <td>100875033591364358</td>\n",
              "      <td>x0r.be</td>\n",
              "      <td>en</td>\n",
              "      <td>[]</td>\n",
              "      <td>[]</td>\n",
              "      <td>False</td>\n",
              "      <td>NaN</td>\n",
              "      <td>[]</td>\n",
              "    </tr>\n",
              "    <tr>\n",
              "      <th>4</th>\n",
              "      <td>14950</td>\n",
              "      <td>\"\"\"I’m not gonna check my 401k...I’m not gonna...</td>\n",
              "      <td>2018-10-10T22:47:55.568Z</td>\n",
              "      <td>[]</td>\n",
              "      <td>100873776364658197</td>\n",
              "      <td>x0r.be</td>\n",
              "      <td>en</td>\n",
              "      <td>[]</td>\n",
              "      <td>[]</td>\n",
              "      <td>False</td>\n",
              "      <td>NaN</td>\n",
              "      <td>[]</td>\n",
              "    </tr>\n",
              "  </tbody>\n",
              "</table>\n",
              "</div>"
            ],
            "text/plain": [
              "   account_id  ... tag_list\n",
              "0        3787  ...       []\n",
              "1           1  ...       []\n",
              "2       13917  ...       []\n",
              "3       49467  ...       []\n",
              "4       14950  ...       []\n",
              "\n",
              "[5 rows x 12 columns]"
            ]
          },
          "metadata": {
            "tags": []
          },
          "execution_count": 34
        }
      ]
    },
    {
      "cell_type": "code",
      "metadata": {
        "id": "Wq7t0bFL5NMk",
        "colab_type": "code",
        "colab": {}
      },
      "source": [
        "data[\"content\"] = data[\"content\"].str.replace(r'</*b>', '', case=False,regex=True)"
      ],
      "execution_count": 0,
      "outputs": []
    },
    {
      "cell_type": "code",
      "metadata": {
        "id": "Ypf2MPtO493D",
        "colab_type": "code",
        "colab": {}
      },
      "source": [
        "data.to_csv(\"data3.csv\")"
      ],
      "execution_count": 0,
      "outputs": []
    },
    {
      "cell_type": "code",
      "metadata": {
        "id": "fnM4GtPl2qOx",
        "colab_type": "code",
        "outputId": "da2c8305-305b-420d-f047-6b3592fbad9b",
        "colab": {
          "base_uri": "https://localhost:8080/",
          "height": 35
        }
      },
      "source": [
        "from polyglot.detect import Detector\n",
        "text = \"\"\"Faites comme moi, soutenez Framasoft hi my name is\"\"\"\n",
        "detector = Detector(text)\n",
        "print(detector.language)"
      ],
      "execution_count": 0,
      "outputs": [
        {
          "output_type": "stream",
          "text": [
            "name: French      code: fr       confidence:  98.0 read bytes:   860\n"
          ],
          "name": "stdout"
        }
      ]
    },
    {
      "cell_type": "code",
      "metadata": {
        "id": "2tnK-hB77CiO",
        "colab_type": "code",
        "outputId": "21296735-18ed-4224-baa7-c11269cebffe",
        "colab": {
          "base_uri": "https://localhost:8080/",
          "height": 35
        }
      },
      "source": [
        "Detector(text).language.name == \"English\""
      ],
      "execution_count": 0,
      "outputs": [
        {
          "output_type": "execute_result",
          "data": {
            "text/plain": [
              "False"
            ]
          },
          "metadata": {
            "tags": []
          },
          "execution_count": 81
        }
      ]
    },
    {
      "cell_type": "code",
      "metadata": {
        "id": "Pvi-vHVr73AR",
        "colab_type": "code",
        "colab": {}
      },
      "source": [
        "from polyglot.detect import Detector\n",
        "def nonenglishremoval(text):\n",
        "  return \"NaN\"\n",
        "    \n",
        "  \n",
        "  "
      ],
      "execution_count": 0,
      "outputs": []
    },
    {
      "cell_type": "code",
      "metadata": {
        "id": "vZwTobwq7Ih_",
        "colab_type": "code",
        "colab": {}
      },
      "source": [
        "from polyglot.detect import Detector\n",
        "data[\"content1\"] = data[\"content\"].apply(lambda x:nonenglishremoval(x) if Detector(x).language.name != \"English\" else x)"
      ],
      "execution_count": 0,
      "outputs": []
    }
  ]
}
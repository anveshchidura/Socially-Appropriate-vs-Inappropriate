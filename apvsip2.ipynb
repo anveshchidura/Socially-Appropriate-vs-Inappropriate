{
  "nbformat": 4,
  "nbformat_minor": 0,
  "metadata": {
    "colab": {
      "name": "apvsip2.ipynb",
      "provenance": [],
      "collapsed_sections": [],
      "machine_shape": "hm",
      "include_colab_link": true
    },
    "kernelspec": {
      "name": "python3",
      "display_name": "Python 3"
    },
    "accelerator": "TPU"
  },
  "cells": [
    {
      "cell_type": "markdown",
      "metadata": {
        "id": "view-in-github",
        "colab_type": "text"
      },
      "source": [
        "<a href=\"https://colab.research.google.com/github/anveshchidura/Socially-Appropriate-vs-Inappropriate/blob/master/apvsip2.ipynb\" target=\"_parent\"><img src=\"https://colab.research.google.com/assets/colab-badge.svg\" alt=\"Open In Colab\"/></a>"
      ]
    },
    {
      "cell_type": "code",
      "metadata": {
        "id": "hrfERwpSm1oC",
        "colab_type": "code",
        "outputId": "f75140df-8a62-4f3f-f996-fd6234dbb3d8",
        "colab": {
          "base_uri": "https://localhost:8080/",
          "height": 121
        }
      },
      "source": [
        "from google.colab import drive\n",
        "drive.mount('/content/drive')"
      ],
      "execution_count": 0,
      "outputs": [
        {
          "output_type": "stream",
          "text": [
            "Go to this URL in a browser: https://accounts.google.com/o/oauth2/auth?client_id=947318989803-6bn6qk8qdgf4n4g3pfee6491hc0brc4i.apps.googleusercontent.com&redirect_uri=urn%3aietf%3awg%3aoauth%3a2.0%3aoob&response_type=code&scope=email%20https%3a%2f%2fwww.googleapis.com%2fauth%2fdocs.test%20https%3a%2f%2fwww.googleapis.com%2fauth%2fdrive%20https%3a%2f%2fwww.googleapis.com%2fauth%2fdrive.photos.readonly%20https%3a%2f%2fwww.googleapis.com%2fauth%2fpeopleapi.readonly\n",
            "\n",
            "Enter your authorization code:\n",
            "··········\n",
            "Mounted at /content/drive\n"
          ],
          "name": "stdout"
        }
      ]
    },
    {
      "cell_type": "code",
      "metadata": {
        "id": "tqWmiFfyKAx5",
        "colab_type": "code",
        "outputId": "ff006ee1-7ad2-4203-cee3-fa699e2b6bb6",
        "colab": {
          "base_uri": "https://localhost:8080/",
          "height": 138
        }
      },
      "source": [
        "!pip install regex\n",
        "!pip install beautifulsoup4\n",
        "# !pip install polyglot\n",
        "# !pip install pycld2\n",
        "# !pip install PyICU"
      ],
      "execution_count": 0,
      "outputs": [
        {
          "output_type": "stream",
          "text": [
            "Collecting regex\n",
            "\u001b[?25l  Downloading https://files.pythonhosted.org/packages/e3/8e/cbf2295643d7265e7883326fb4654e643bfc93b3a8a8274d8010a39d8804/regex-2019.11.1-cp36-cp36m-manylinux1_x86_64.whl (643kB)\n",
            "\r\u001b[K     |▌                               | 10kB 18.8MB/s eta 0:00:01\r\u001b[K     |█                               | 20kB 2.2MB/s eta 0:00:01\r\u001b[K     |█▌                              | 30kB 3.2MB/s eta 0:00:01\r\u001b[K     |██                              | 40kB 2.1MB/s eta 0:00:01\r\u001b[K     |██▌                             | 51kB 2.6MB/s eta 0:00:01\r\u001b[K     |███                             | 61kB 3.1MB/s eta 0:00:01\r\u001b[K     |███▋                            | 71kB 3.6MB/s eta 0:00:01\r\u001b[K     |████                            | 81kB 4.0MB/s eta 0:00:01\r\u001b[K     |████▋                           | 92kB 4.5MB/s eta 0:00:01\r\u001b[K     |█████                           | 102kB 3.5MB/s eta 0:00:01\r\u001b[K     |█████▋                          | 112kB 3.5MB/s eta 0:00:01\r\u001b[K     |██████                          | 122kB 3.5MB/s eta 0:00:01\r\u001b[K     |██████▋                         | 133kB 3.5MB/s eta 0:00:01\r\u001b[K     |███████▏                        | 143kB 3.5MB/s eta 0:00:01\r\u001b[K     |███████▋                        | 153kB 3.5MB/s eta 0:00:01\r\u001b[K     |████████▏                       | 163kB 3.5MB/s eta 0:00:01\r\u001b[K     |████████▋                       | 174kB 3.5MB/s eta 0:00:01\r\u001b[K     |█████████▏                      | 184kB 3.5MB/s eta 0:00:01\r\u001b[K     |█████████▊                      | 194kB 3.5MB/s eta 0:00:01\r\u001b[K     |██████████▏                     | 204kB 3.5MB/s eta 0:00:01\r\u001b[K     |██████████▊                     | 215kB 3.5MB/s eta 0:00:01\r\u001b[K     |███████████▏                    | 225kB 3.5MB/s eta 0:00:01\r\u001b[K     |███████████▊                    | 235kB 3.5MB/s eta 0:00:01\r\u001b[K     |████████████▏                   | 245kB 3.5MB/s eta 0:00:01\r\u001b[K     |████████████▊                   | 256kB 3.5MB/s eta 0:00:01\r\u001b[K     |█████████████▎                  | 266kB 3.5MB/s eta 0:00:01\r\u001b[K     |█████████████▊                  | 276kB 3.5MB/s eta 0:00:01\r\u001b[K     |██████████████▎                 | 286kB 3.5MB/s eta 0:00:01\r\u001b[K     |██████████████▊                 | 296kB 3.5MB/s eta 0:00:01\r\u001b[K     |███████████████▎                | 307kB 3.5MB/s eta 0:00:01\r\u001b[K     |███████████████▉                | 317kB 3.5MB/s eta 0:00:01\r\u001b[K     |████████████████▎               | 327kB 3.5MB/s eta 0:00:01\r\u001b[K     |████████████████▉               | 337kB 3.5MB/s eta 0:00:01\r\u001b[K     |█████████████████▎              | 348kB 3.5MB/s eta 0:00:01\r\u001b[K     |█████████████████▉              | 358kB 3.5MB/s eta 0:00:01\r\u001b[K     |██████████████████▎             | 368kB 3.5MB/s eta 0:00:01\r\u001b[K     |██████████████████▉             | 378kB 3.5MB/s eta 0:00:01\r\u001b[K     |███████████████████▍            | 389kB 3.5MB/s eta 0:00:01\r\u001b[K     |███████████████████▉            | 399kB 3.5MB/s eta 0:00:01\r\u001b[K     |████████████████████▍           | 409kB 3.5MB/s eta 0:00:01\r\u001b[K     |████████████████████▉           | 419kB 3.5MB/s eta 0:00:01\r\u001b[K     |█████████████████████▍          | 430kB 3.5MB/s eta 0:00:01\r\u001b[K     |██████████████████████          | 440kB 3.5MB/s eta 0:00:01\r\u001b[K     |██████████████████████▍         | 450kB 3.5MB/s eta 0:00:01\r\u001b[K     |███████████████████████         | 460kB 3.5MB/s eta 0:00:01\r\u001b[K     |███████████████████████▍        | 471kB 3.5MB/s eta 0:00:01\r\u001b[K     |████████████████████████        | 481kB 3.5MB/s eta 0:00:01\r\u001b[K     |████████████████████████▍       | 491kB 3.5MB/s eta 0:00:01\r\u001b[K     |█████████████████████████       | 501kB 3.5MB/s eta 0:00:01\r\u001b[K     |█████████████████████████▌      | 512kB 3.5MB/s eta 0:00:01\r\u001b[K     |██████████████████████████      | 522kB 3.5MB/s eta 0:00:01\r\u001b[K     |██████████████████████████▌     | 532kB 3.5MB/s eta 0:00:01\r\u001b[K     |███████████████████████████     | 542kB 3.5MB/s eta 0:00:01\r\u001b[K     |███████████████████████████▌    | 552kB 3.5MB/s eta 0:00:01\r\u001b[K     |████████████████████████████    | 563kB 3.5MB/s eta 0:00:01\r\u001b[K     |████████████████████████████▌   | 573kB 3.5MB/s eta 0:00:01\r\u001b[K     |█████████████████████████████   | 583kB 3.5MB/s eta 0:00:01\r\u001b[K     |█████████████████████████████▌  | 593kB 3.5MB/s eta 0:00:01\r\u001b[K     |██████████████████████████████  | 604kB 3.5MB/s eta 0:00:01\r\u001b[K     |██████████████████████████████▌ | 614kB 3.5MB/s eta 0:00:01\r\u001b[K     |███████████████████████████████ | 624kB 3.5MB/s eta 0:00:01\r\u001b[K     |███████████████████████████████▋| 634kB 3.5MB/s eta 0:00:01\r\u001b[K     |████████████████████████████████| 645kB 3.5MB/s \n",
            "\u001b[?25hInstalling collected packages: regex\n",
            "Successfully installed regex-2019.11.1\n",
            "Requirement already satisfied: beautifulsoup4 in /usr/local/lib/python3.6/dist-packages (4.6.3)\n"
          ],
          "name": "stdout"
        }
      ]
    },
    {
      "cell_type": "code",
      "metadata": {
        "id": "FpmwebdenUAp",
        "colab_type": "code",
        "outputId": "870463c7-3a26-4c05-ab2b-9dafa843deff",
        "colab": {
          "base_uri": "https://localhost:8080/",
          "height": 70
        }
      },
      "source": [
        "import pandas as pd\n",
        "data = pd.read_csv(\"/content/drive/My Drive/data3.csv\")"
      ],
      "execution_count": 0,
      "outputs": [
        {
          "output_type": "stream",
          "text": [
            "/usr/local/lib/python3.6/dist-packages/IPython/core/interactiveshell.py:2718: DtypeWarning: Columns (10,11) have mixed types. Specify dtype option on import or set low_memory=False.\n",
            "  interactivity=interactivity, compiler=compiler, result=result)\n"
          ],
          "name": "stderr"
        }
      ]
    },
    {
      "cell_type": "code",
      "metadata": {
        "id": "1aBsJCJBF4hz",
        "colab_type": "code",
        "colab": {}
      },
      "source": [
        "data = data.iloc[:,1:]"
      ],
      "execution_count": 0,
      "outputs": []
    },
    {
      "cell_type": "code",
      "metadata": {
        "id": "hwxrnqY4F5q1",
        "colab_type": "code",
        "colab": {}
      },
      "source": [
        "data[\"content\"] = data[\"content\"].str.replace('\"\"\"',\"\")"
      ],
      "execution_count": 0,
      "outputs": []
    },
    {
      "cell_type": "code",
      "metadata": {
        "id": "s6HSiHiBS5ex",
        "colab_type": "code",
        "colab": {}
      },
      "source": [
        "data[\"content\"]=data[\"content\"].str.replace(r'@\\w+', '', case=False,regex=True)"
      ],
      "execution_count": 0,
      "outputs": []
    },
    {
      "cell_type": "code",
      "metadata": {
        "id": "6sJPM2tmoWoh",
        "colab_type": "code",
        "colab": {}
      },
      "source": [
        "import regex as re\n",
        "def hashtag(text):\n",
        "  return re.sub(\"[^a-zA-Z]\", \" \",text)"
      ],
      "execution_count": 0,
      "outputs": []
    },
    {
      "cell_type": "code",
      "metadata": {
        "id": "Oybm4516oWmH",
        "colab_type": "code",
        "colab": {}
      },
      "source": [
        "data[\"content\"] = data[\"content\"].apply(lambda x: hashtag(x))"
      ],
      "execution_count": 0,
      "outputs": []
    },
    {
      "cell_type": "code",
      "metadata": {
        "id": "4W28cEO5mpfq",
        "colab_type": "code",
        "colab": {}
      },
      "source": [
        "import string\n",
        "import nltk\n",
        "from nltk.corpus import stopwords\n",
        "from nltk.tokenize import RegexpTokenizer\n",
        "from nltk.stem import WordNetLemmatizer\n",
        "from nltk.stem.porter import PorterStemmer"
      ],
      "execution_count": 0,
      "outputs": []
    },
    {
      "cell_type": "code",
      "metadata": {
        "id": "jB2v80-1tKkS",
        "colab_type": "code",
        "colab": {}
      },
      "source": [
        "def punctuation(text):\n",
        "  x = \"\".join([c for c in text if c not in string.punctuation])\n",
        "  return x"
      ],
      "execution_count": 0,
      "outputs": []
    },
    {
      "cell_type": "code",
      "metadata": {
        "id": "IeHm2kY0t--d",
        "colab_type": "code",
        "colab": {}
      },
      "source": [
        "data[\"content\"] = data[\"content\"].apply(lambda x: punctuation(x))"
      ],
      "execution_count": 0,
      "outputs": []
    },
    {
      "cell_type": "code",
      "metadata": {
        "id": "gglJoT25uG1J",
        "colab_type": "code",
        "colab": {}
      },
      "source": [
        "tokenizer = RegexpTokenizer(r\"\\w+\")"
      ],
      "execution_count": 0,
      "outputs": []
    },
    {
      "cell_type": "code",
      "metadata": {
        "id": "i_AxK8_uu2LH",
        "colab_type": "code",
        "colab": {}
      },
      "source": [
        "data[\"content\"] = data[\"content\"].apply(lambda x: tokenizer.tokenize(x.lower()))"
      ],
      "execution_count": 0,
      "outputs": []
    },
    {
      "cell_type": "code",
      "metadata": {
        "id": "egU_SQixvkja",
        "colab_type": "code",
        "outputId": "07300ff6-3f86-46b9-f3d1-1225ab71cc88",
        "colab": {
          "base_uri": "https://localhost:8080/",
          "height": 50
        }
      },
      "source": [
        "from nltk.corpus import stopwords\n",
        "nltk.download('stopwords')\n",
        "stops = set(stopwords.words(\"english\"))  \n",
        "def stopwor(text):\n",
        "  x = [c for c in text if not c in stops]\n",
        "  return x"
      ],
      "execution_count": 0,
      "outputs": [
        {
          "output_type": "stream",
          "text": [
            "[nltk_data] Downloading package stopwords to /root/nltk_data...\n",
            "[nltk_data]   Unzipping corpora/stopwords.zip.\n"
          ],
          "name": "stdout"
        }
      ]
    },
    {
      "cell_type": "code",
      "metadata": {
        "id": "CqV1WkWDxB0L",
        "colab_type": "code",
        "colab": {}
      },
      "source": [
        "data[\"content\"] = data[\"content\"].apply(lambda x: stopwor(x))"
      ],
      "execution_count": 0,
      "outputs": []
    },
    {
      "cell_type": "code",
      "metadata": {
        "id": "BFUMmALWt6Ky",
        "colab_type": "code",
        "colab": {}
      },
      "source": [
        "lemmatizer = WordNetLemmatizer()\n",
        "def lemmatize(text):\n",
        "  text = [lemmatizer.lemmatize(i) for i in text]\n",
        "  return text"
      ],
      "execution_count": 0,
      "outputs": []
    },
    {
      "cell_type": "code",
      "metadata": {
        "id": "1YKXuUARwvF_",
        "colab_type": "code",
        "outputId": "407340c8-d59f-428a-dfd9-b05622c9c7f0",
        "colab": {
          "base_uri": "https://localhost:8080/",
          "height": 50
        }
      },
      "source": [
        "nltk.download('wordnet')\n",
        "from nltk.stem import WordNetLemmatizer\n",
        "data[\"content\"] = data[\"content\"].apply(lambda x: lemmatize(x))"
      ],
      "execution_count": 0,
      "outputs": [
        {
          "output_type": "stream",
          "text": [
            "[nltk_data] Downloading package wordnet to /root/nltk_data...\n",
            "[nltk_data]   Unzipping corpora/wordnet.zip.\n"
          ],
          "name": "stdout"
        }
      ]
    },
    {
      "cell_type": "code",
      "metadata": {
        "id": "gmsj0t--yZ2h",
        "colab_type": "code",
        "outputId": "15aeaae4-4b0c-4d74-c8c2-37dfe3a1a00c",
        "colab": {
          "base_uri": "https://localhost:8080/",
          "height": 218
        }
      },
      "source": [
        "data[\"content\"]"
      ],
      "execution_count": 0,
      "outputs": [
        {
          "output_type": "execute_result",
          "data": {
            "text/plain": [
              "0                                                        [w]\n",
              "1          [brexit, showed, plan, little, planning, oodle...\n",
              "2          [faites, comme, moi, soutenez, framasoft, clas...\n",
              "3                                     [hug, galore, tonight]\n",
              "4          [gonna, check, k, gonna, check, k, gonna, chec...\n",
              "                                 ...                        \n",
              "4172681    [twitter, shutting, window, app, version, twee...\n",
              "4172682    [really, need, make, simple, cli, client, mast...\n",
              "4172683    [okay, fixed, follow, related, stuff, followin...\n",
              "4172684                                           [tweeting]\n",
              "4172685                                       [hello, world]\n",
              "Name: content, Length: 4172686, dtype: object"
            ]
          },
          "metadata": {
            "tags": []
          },
          "execution_count": 18
        }
      ]
    },
    {
      "cell_type": "code",
      "metadata": {
        "id": "K9vYBKWTyZxB",
        "colab_type": "code",
        "colab": {}
      },
      "source": [
        "# from polyglot.detect import Detector\n",
        "# text = \"my name is anvesh\"\n",
        "# detector = Detector(text)\n",
        "# print(detector.language)\n"
      ],
      "execution_count": 0,
      "outputs": []
    },
    {
      "cell_type": "code",
      "metadata": {
        "id": "ppbuH-pMzwpa",
        "colab_type": "code",
        "colab": {}
      },
      "source": [
        "# from polyglot.detect import Detector\n",
        "# def nonenglishremoval(text):\n",
        "#   for lang in Detector(text,quiet=True).languages:\n",
        "#      if lang.name != \"English\":\n",
        "#         return \"#\"\n",
        "#      else:\n",
        "#         return text"
      ],
      "execution_count": 0,
      "outputs": []
    },
    {
      "cell_type": "code",
      "metadata": {
        "id": "_6jx8r8wWhJ8",
        "colab_type": "code",
        "colab": {}
      },
      "source": [
        "# def joinn(text):\n",
        "#   t = \" \".join(w for w in text)\n",
        "#   return t"
      ],
      "execution_count": 0,
      "outputs": []
    },
    {
      "cell_type": "code",
      "metadata": {
        "id": "D-Z63scg2A80",
        "colab_type": "code",
        "colab": {}
      },
      "source": [
        "# nonenglishremoval(\"Brexit showed “no plan and little planning, oodles Depuis que je l&aposai découvert\")"
      ],
      "execution_count": 0,
      "outputs": []
    },
    {
      "cell_type": "code",
      "metadata": {
        "id": "RxaTahHAWhG5",
        "colab_type": "code",
        "colab": {}
      },
      "source": [
        "# data[\"hi\"] = data[\"content\"].apply(lambda x:joinn(x))"
      ],
      "execution_count": 0,
      "outputs": []
    },
    {
      "cell_type": "code",
      "metadata": {
        "id": "HsGmGas-WhFl",
        "colab_type": "code",
        "colab": {}
      },
      "source": [
        "# data[\"hi\"] = data[\"hi\"].apply(lambda x:nonenglishremoval(x))"
      ],
      "execution_count": 0,
      "outputs": []
    },
    {
      "cell_type": "code",
      "metadata": {
        "id": "ssybS3s7WhBK",
        "colab_type": "code",
        "colab": {}
      },
      "source": [
        "# import icu\n",
        "# data[\"hi1\"] = data[\"hi\"].apply(lambda x:Detector(x, quiet=True))"
      ],
      "execution_count": 0,
      "outputs": []
    },
    {
      "cell_type": "code",
      "metadata": {
        "id": "VChVW4MQ_haK",
        "colab_type": "code",
        "colab": {}
      },
      "source": [
        "# import nltk\n",
        "\n",
        "# words = set(nltk.corpus.words.words())\n",
        "\n",
        "# sent = [\"dream\",\"moi\", \"i\",\"name\" ,\"i\"]\n",
        "\n",
        "# \" \".join(w for w in sent \\\n",
        "\n",
        "#          if w.lower() in words or not w.isalpha())\n",
        "\n",
        "# # 'Io to the beach with my'"
      ],
      "execution_count": 0,
      "outputs": []
    },
    {
      "cell_type": "code",
      "metadata": {
        "id": "CgRk3b0S_hYT",
        "colab_type": "code",
        "outputId": "bb345a5e-6d2f-4fe4-a463-9312d045e2dd",
        "colab": {
          "base_uri": "https://localhost:8080/",
          "height": 50
        }
      },
      "source": [
        "nltk.download('words')\n",
        "words = set(nltk.corpus.words.words())\n",
        "def nonengl(text):\n",
        "  t = \" \".join(w for w in text if w in words or not w.isalpha())\n",
        "  return t\n"
      ],
      "execution_count": 0,
      "outputs": [
        {
          "output_type": "stream",
          "text": [
            "[nltk_data] Downloading package words to /root/nltk_data...\n",
            "[nltk_data]   Unzipping corpora/words.zip.\n"
          ],
          "name": "stdout"
        }
      ]
    },
    {
      "cell_type": "code",
      "metadata": {
        "id": "QYyYPuTO_hJJ",
        "colab_type": "code",
        "colab": {}
      },
      "source": [
        "data[\"hi1\"] = data[\"content\"].apply(lambda x:nonengl(x))"
      ],
      "execution_count": 0,
      "outputs": []
    },
    {
      "cell_type": "code",
      "metadata": {
        "id": "_hgfh73qEXLp",
        "colab_type": "code",
        "outputId": "6d2c1084-10a8-4b5c-f9e1-e7b6196f70b7",
        "colab": {
          "base_uri": "https://localhost:8080/",
          "height": 454
        }
      },
      "source": [
        "data.loc[111,\"content\"]"
      ],
      "execution_count": 0,
      "outputs": [
        {
          "output_type": "execute_result",
          "data": {
            "text/plain": [
              "['nicht',\n",
              " 'das',\n",
              " 'ich',\n",
              " 'gestern',\n",
              " 'ein',\n",
              " 'c',\n",
              " 'ticket',\n",
              " 'h',\n",
              " 'tte',\n",
              " 'kaufen',\n",
              " 'k',\n",
              " 'nnen',\n",
              " 'aber',\n",
              " 'nun',\n",
              " 'frage',\n",
              " 'ich',\n",
              " 'mich',\n",
              " 'ob',\n",
              " 'ich',\n",
              " 'mir',\n",
              " 'den',\n",
              " 'mal',\n",
              " 'im',\n",
              " 'kalender',\n",
              " 'anstreichen',\n",
              " 'sollte']"
            ]
          },
          "metadata": {
            "tags": []
          },
          "execution_count": 28
        }
      ]
    },
    {
      "cell_type": "code",
      "metadata": {
        "id": "yRnarbf7G6KQ",
        "colab_type": "code",
        "colab": {}
      },
      "source": [
        "import numpy as np\n",
        "data = data[data[\"hi1\"].str.len() > 1]"
      ],
      "execution_count": 0,
      "outputs": []
    },
    {
      "cell_type": "code",
      "metadata": {
        "id": "lf2ywLIuCTBW",
        "colab_type": "code",
        "colab": {}
      },
      "source": [
        "data[\"hi1\"] = data[\"hi1\"].str.replace(\"class\",\"\")"
      ],
      "execution_count": 0,
      "outputs": []
    },
    {
      "cell_type": "code",
      "metadata": {
        "id": "Dcz63YPJbVqp",
        "colab_type": "code",
        "outputId": "0555ffaa-d1b7-475e-ef85-9228f7669a48",
        "colab": {
          "base_uri": "https://localhost:8080/",
          "height": 218
        }
      },
      "source": [
        "data[\"hi1\"]"
      ],
      "execution_count": 0,
      "outputs": [
        {
          "output_type": "execute_result",
          "data": {
            "text/plain": [
              "1          plan little oodles tutorial level plausible su...\n",
              "2                                                           \n",
              "3                                         hug galore tonight\n",
              "4                          check k check k check k checked k\n",
              "5          man found dog lost three year ago three year p...\n",
              "                                 ...                        \n",
              "4172680                  also probably start account instead\n",
              "4172681     twitter shutting window version show get product\n",
              "4172682         really need make simple client mastodon soon\n",
              "4172683    fixed follow related stuff following remote ac...\n",
              "4172685                                          hello world\n",
              "Name: hi1, Length: 3963769, dtype: object"
            ]
          },
          "metadata": {
            "tags": []
          },
          "execution_count": 31
        }
      ]
    },
    {
      "cell_type": "code",
      "metadata": {
        "id": "93wGcEolmBXt",
        "colab_type": "code",
        "colab": {}
      },
      "source": [
        "data[\"sensitive\"] = data[\"sensitive\"].map({True:1,False:0})\n",
        "data[\"sensitive\"] = data[\"sensitive\"].fillna(0)"
      ],
      "execution_count": 0,
      "outputs": []
    },
    {
      "cell_type": "code",
      "metadata": {
        "id": "QAkmly1Ddm4-",
        "colab_type": "code",
        "colab": {}
      },
      "source": [
        "# !pip install gensim"
      ],
      "execution_count": 0,
      "outputs": []
    },
    {
      "cell_type": "code",
      "metadata": {
        "id": "DiB6-Q1PkfZ_",
        "colab_type": "code",
        "colab": {}
      },
      "source": [
        "#  from gensim.models import Word2Vec\n",
        "# lis=[]\n",
        "# for i in data['hi1']:\n",
        "#      li = list(i.split(\" \"))\n",
        "#      lis.append(li)\t\n",
        "# model= Word2Vec(lis,min_count=1,size=300,workers=4,sg = 1)"
      ],
      "execution_count": 0,
      "outputs": []
    },
    {
      "cell_type": "code",
      "metadata": {
        "id": "Ekcc8acXpKOU",
        "colab_type": "code",
        "colab": {}
      },
      "source": [
        "# model.save(\"word2vec.model\")\n",
        "# model.save(\"model.bin\")"
      ],
      "execution_count": 0,
      "outputs": []
    },
    {
      "cell_type": "code",
      "metadata": {
        "id": "0PMe07yQphdz",
        "colab_type": "code",
        "colab": {}
      },
      "source": [
        "# model = Word2Vec.load('model.bin')"
      ],
      "execution_count": 0,
      "outputs": []
    },
    {
      "cell_type": "code",
      "metadata": {
        "id": "UbQwF-QCpq9C",
        "colab_type": "code",
        "colab": {}
      },
      "source": [
        "# len(list(model.wv.vocab))"
      ],
      "execution_count": 0,
      "outputs": []
    },
    {
      "cell_type": "code",
      "metadata": {
        "id": "iokXED09p7Qj",
        "colab_type": "code",
        "colab": {}
      },
      "source": [
        "# similar_words = model.most_similar('hate')\t\n",
        "# print(similar_words)"
      ],
      "execution_count": 0,
      "outputs": []
    },
    {
      "cell_type": "code",
      "metadata": {
        "id": "6pndrxgbqEX5",
        "colab_type": "code",
        "colab": {}
      },
      "source": [
        "# model.wv.most_similar(\"horrible\")"
      ],
      "execution_count": 0,
      "outputs": []
    },
    {
      "cell_type": "code",
      "metadata": {
        "id": "IFtXNeVvZAeY",
        "colab_type": "code",
        "colab": {}
      },
      "source": [
        "# filename = \"w2vembed.txt\"\n",
        "# model.wv.save_word2vec_format(filename,binary = False)\n"
      ],
      "execution_count": 0,
      "outputs": []
    },
    {
      "cell_type": "code",
      "metadata": {
        "id": "xtI9-ubhbkiO",
        "colab_type": "code",
        "colab": {}
      },
      "source": [
        "# import os\n",
        "# import numpy as np\n",
        "# embed_index = {}\n",
        "# f = open(os.path.join('','w2vembed.txt'),encoding = \"utf-8\")\n",
        "# for line in f:\n",
        "#   values = line.split()\n",
        "#   word = values[0]\n",
        "#   coefs = np.asarray(values[1:])\n",
        "#   embed_index[word] = coefs\n",
        "# f.close()  "
      ],
      "execution_count": 0,
      "outputs": []
    },
    {
      "cell_type": "code",
      "metadata": {
        "id": "yO8u_Cmob-Wb",
        "colab_type": "code",
        "colab": {}
      },
      "source": [
        "# wordss = list(model.wv.vocab)"
      ],
      "execution_count": 0,
      "outputs": []
    },
    {
      "cell_type": "code",
      "metadata": {
        "id": "iwMUhwzNgdjs",
        "colab_type": "code",
        "colab": {}
      },
      "source": [
        "from tensorflow.python.keras.preprocessing.text import Tokenizer\n",
        "from tensorflow.python.keras.preprocessing.sequence import pad_sequences\n",
        "\n"
      ],
      "execution_count": 0,
      "outputs": []
    },
    {
      "cell_type": "code",
      "metadata": {
        "id": "Qt2_lh2Od6Jh",
        "colab_type": "code",
        "colab": {}
      },
      "source": [
        "# token_obj = Tokenizer()\n",
        "# token_obj.fit_on_texts(lis)\n",
        "# seq = token_obj.texts_to_sequences(lis)"
      ],
      "execution_count": 0,
      "outputs": []
    },
    {
      "cell_type": "code",
      "metadata": {
        "id": "rON1evi5hQC_",
        "colab_type": "code",
        "colab": {}
      },
      "source": [
        "# word_index = token_obj.word_index\n",
        "# len(word_index)"
      ],
      "execution_count": 0,
      "outputs": []
    },
    {
      "cell_type": "code",
      "metadata": {
        "id": "EuTjGx95m8gW",
        "colab_type": "code",
        "colab": {}
      },
      "source": [
        "# total = data[\"hi1\"].values\n",
        "# token_obj.fit_on_texts(total)\n",
        "# max_length = max([len(s.split()) for s in total])\n",
        "# max_length"
      ],
      "execution_count": 0,
      "outputs": []
    },
    {
      "cell_type": "code",
      "metadata": {
        "id": "C-H3u6avhfC8",
        "colab_type": "code",
        "colab": {}
      },
      "source": [
        "# cont_pad = pad_sequences(seq,maxlen=max_length)\n",
        "# sensitive = data[\"sensitive\"].values\n",
        "# cont_pad.shape\n",
        "# sensitive.shape\n",
        "\n"
      ],
      "execution_count": 0,
      "outputs": []
    },
    {
      "cell_type": "code",
      "metadata": {
        "id": "WU1vhazKGcoR",
        "colab_type": "code",
        "colab": {}
      },
      "source": [
        "# x = data[\"hi1\"].values\n",
        "# xtrain = data.loc[:3500000,'hi1'].values\n",
        "# ytrain = data.loc[:3500000,'sensitive'].values\n",
        "# xtest  = data.loc[3500001:,'hi1'].values \n",
        "# ytest  = data.loc[3500001:,'sensitive'].values"
      ],
      "execution_count": 0,
      "outputs": []
    },
    {
      "cell_type": "code",
      "metadata": {
        "id": "uGRuq933GcbR",
        "colab_type": "code",
        "colab": {}
      },
      "source": [
        "# from tensorflow.python.keras.preprocessing.text import Tokenizer\n",
        "# from tensorflow.python.keras.preprocessing.sequence import pad_sequences\n",
        "# token_obj = Tokenizer()\n",
        "# token_obj.fit_on_texts(x)\n",
        "# max_length = max([len(s.split()) for s in x])\n",
        "# vocab_size = len(token_obj.word_index) + 1\n",
        "# xtrain_tokens = token_obj.texts_to_sequences(xtrain)\n",
        "# xtest_tokens = token_obj.texts_to_sequences(xtest)\n",
        "# xtrain_pad = pad_sequences(xtrain_tokens,maxlen=max_length,padding = 'post')\n",
        "# xtest_pad = pad_sequences(xtest_tokens,maxlen=max_length,padding = 'post')\n"
      ],
      "execution_count": 0,
      "outputs": []
    },
    {
      "cell_type": "code",
      "metadata": {
        "id": "kG43GdBUBLPA",
        "colab_type": "code",
        "colab": {}
      },
      "source": [
        "data1 = data[data[\"instance\"] == \"switter.at\"]\n"
      ],
      "execution_count": 0,
      "outputs": []
    },
    {
      "cell_type": "code",
      "metadata": {
        "id": "p7OGu-XG5SIx",
        "colab_type": "code",
        "colab": {}
      },
      "source": [
        "data1 = data1.reset_index()"
      ],
      "execution_count": 0,
      "outputs": []
    },
    {
      "cell_type": "code",
      "metadata": {
        "id": "FTd0QHAT55Kd",
        "colab_type": "code",
        "colab": {}
      },
      "source": [
        "data1 = data1.iloc[:,1:]"
      ],
      "execution_count": 0,
      "outputs": []
    },
    {
      "cell_type": "code",
      "metadata": {
        "id": "LMXxtyaOchW1",
        "colab_type": "code",
        "outputId": "13edfaec-8a8d-401c-ccf0-bfc38532c910",
        "colab": {
          "base_uri": "https://localhost:8080/",
          "height": 34
        }
      },
      "source": [
        "data1.shape"
      ],
      "execution_count": 0,
      "outputs": [
        {
          "output_type": "execute_result",
          "data": {
            "text/plain": [
              "(462354, 13)"
            ]
          },
          "metadata": {
            "tags": []
          },
          "execution_count": 50
        }
      ]
    },
    {
      "cell_type": "code",
      "metadata": {
        "id": "pqJI5zKek9PI",
        "colab_type": "code",
        "outputId": "bfb99056-5597-4d7d-cfa1-b82296bd4d37",
        "colab": {
          "base_uri": "https://localhost:8080/",
          "height": 1000
        }
      },
      "source": [
        "data1[data1[\"sensitive\"] == 0]"
      ],
      "execution_count": 0,
      "outputs": [
        {
          "output_type": "execute_result",
          "data": {
            "text/html": [
              "<div>\n",
              "<style scoped>\n",
              "    .dataframe tbody tr th:only-of-type {\n",
              "        vertical-align: middle;\n",
              "    }\n",
              "\n",
              "    .dataframe tbody tr th {\n",
              "        vertical-align: top;\n",
              "    }\n",
              "\n",
              "    .dataframe thead th {\n",
              "        text-align: right;\n",
              "    }\n",
              "</style>\n",
              "<table border=\"1\" class=\"dataframe\">\n",
              "  <thead>\n",
              "    <tr style=\"text-align: right;\">\n",
              "      <th></th>\n",
              "      <th>account_id</th>\n",
              "      <th>content</th>\n",
              "      <th>created_at</th>\n",
              "      <th>emojis</th>\n",
              "      <th>id</th>\n",
              "      <th>instance</th>\n",
              "      <th>language</th>\n",
              "      <th>media_attachments</th>\n",
              "      <th>mentions</th>\n",
              "      <th>sensitive</th>\n",
              "      <th>spoiler_text</th>\n",
              "      <th>tag_list</th>\n",
              "      <th>hi1</th>\n",
              "    </tr>\n",
              "  </thead>\n",
              "  <tbody>\n",
              "    <tr>\n",
              "      <th>0</th>\n",
              "      <td>8052</td>\n",
              "      <td>[website, update, expanded, stock, shop, brows...</td>\n",
              "      <td>2018-10-11T10:19:31.543Z</td>\n",
              "      <td>[]</td>\n",
              "      <td>100876495846127307</td>\n",
              "      <td>switter.at</td>\n",
              "      <td>en</td>\n",
              "      <td>[{'id': '2043056', 'type': 'image', 'url': 'ht...</td>\n",
              "      <td>[]</td>\n",
              "      <td>0.0</td>\n",
              "      <td>NaN</td>\n",
              "      <td>[]</td>\n",
              "      <td>update expanded stock shop browse goody  ellip...</td>\n",
              "    </tr>\n",
              "    <tr>\n",
              "      <th>1</th>\n",
              "      <td>7900</td>\n",
              "      <td>[one]</td>\n",
              "      <td>2018-10-11T10:15:50.833Z</td>\n",
              "      <td>[]</td>\n",
              "      <td>100876481384211118</td>\n",
              "      <td>switter.at</td>\n",
              "      <td>en</td>\n",
              "      <td>[{'id': '2043021', 'type': 'image', 'url': 'ht...</td>\n",
              "      <td>[]</td>\n",
              "      <td>0.0</td>\n",
              "      <td>NaN</td>\n",
              "      <td>[]</td>\n",
              "      <td>one</td>\n",
              "    </tr>\n",
              "    <tr>\n",
              "      <th>2</th>\n",
              "      <td>4860</td>\n",
              "      <td>[made, sale, fingering, bj, sex, machine, clas...</td>\n",
              "      <td>2018-10-11T10:13:28.188Z</td>\n",
              "      <td>[]</td>\n",
              "      <td>100876472032448836</td>\n",
              "      <td>switter.at</td>\n",
              "      <td>en</td>\n",
              "      <td>[{'id': '2043001', 'type': 'image', 'url': 'ht...</td>\n",
              "      <td>[]</td>\n",
              "      <td>0.0</td>\n",
              "      <td>NaN</td>\n",
              "      <td>['manyvids', 'mvsales']</td>\n",
              "      <td>made sale fingering sex machine  ellipsis vide...</td>\n",
              "    </tr>\n",
              "    <tr>\n",
              "      <th>6</th>\n",
              "      <td>284</td>\n",
              "      <td>[another, clip, sold, taunting, demonic, nail,...</td>\n",
              "      <td>2018-10-11T10:11:08.456Z</td>\n",
              "      <td>[]</td>\n",
              "      <td>100876462874633789</td>\n",
              "      <td>switter.at</td>\n",
              "      <td>en</td>\n",
              "      <td>[{'id': '2042969', 'type': 'video', 'url': 'ht...</td>\n",
              "      <td>[]</td>\n",
              "      <td>0.0</td>\n",
              "      <td>NSFW</td>\n",
              "      <td>['iwantclips', 'mesmerize', 'clip']</td>\n",
              "      <td>another clip sold taunting demonic nail mesmer...</td>\n",
              "    </tr>\n",
              "    <tr>\n",
              "      <th>8</th>\n",
              "      <td>131657</td>\n",
              "      <td>[class, ellipsis, techdirt, com, article, face...</td>\n",
              "      <td>2018-10-11T10:05:18.076Z</td>\n",
              "      <td>[]</td>\n",
              "      <td>100876439911548372</td>\n",
              "      <td>switter.at</td>\n",
              "      <td>en</td>\n",
              "      <td>[{'id': '2042903', 'type': 'image', 'url': 'ht...</td>\n",
              "      <td>[]</td>\n",
              "      <td>0.0</td>\n",
              "      <td>NaN</td>\n",
              "      <td>[]</td>\n",
              "      <td>ellipsis article whose support made law sex r...</td>\n",
              "    </tr>\n",
              "    <tr>\n",
              "      <th>...</th>\n",
              "      <td>...</td>\n",
              "      <td>...</td>\n",
              "      <td>...</td>\n",
              "      <td>...</td>\n",
              "      <td>...</td>\n",
              "      <td>...</td>\n",
              "      <td>...</td>\n",
              "      <td>...</td>\n",
              "      <td>...</td>\n",
              "      <td>...</td>\n",
              "      <td>...</td>\n",
              "      <td>...</td>\n",
              "      <td>...</td>\n",
              "    </tr>\n",
              "    <tr>\n",
              "      <th>462103</th>\n",
              "      <td>200</td>\n",
              "      <td>[sold, video, glass, dream, get, com, class, e...</td>\n",
              "      <td>2018-03-28T10:38:48.011Z</td>\n",
              "      <td>[]</td>\n",
              "      <td>99761096482267382</td>\n",
              "      <td>switter.at</td>\n",
              "      <td>en</td>\n",
              "      <td>[{'id': '148', 'type': 'image', 'url': 'https:...</td>\n",
              "      <td>[]</td>\n",
              "      <td>0.0</td>\n",
              "      <td>NaN</td>\n",
              "      <td>['amateurporn']</td>\n",
              "      <td>sold video glass dream get  ellipsis glass dream</td>\n",
              "    </tr>\n",
              "    <tr>\n",
              "      <th>462106</th>\n",
              "      <td>200</td>\n",
              "      <td>[hey, everyone, mark, medium, sensitive, prefe...</td>\n",
              "      <td>2018-03-28T10:34:41.627Z</td>\n",
              "      <td>[]</td>\n",
              "      <td>99761080323969230</td>\n",
              "      <td>switter.at</td>\n",
              "      <td>en</td>\n",
              "      <td>[{'id': '142', 'type': 'image', 'url': 'https:...</td>\n",
              "      <td>['3']</td>\n",
              "      <td>0.0</td>\n",
              "      <td>NaN</td>\n",
              "      <td>['sexworker', 'sexwork', 'switter']</td>\n",
              "      <td>hey everyone mark medium sensitive preference ...</td>\n",
              "    </tr>\n",
              "    <tr>\n",
              "      <th>462243</th>\n",
              "      <td>110</td>\n",
              "      <td>[aposve, semi, retirement, since, moved, seatt...</td>\n",
              "      <td>2018-03-28T08:05:50.647Z</td>\n",
              "      <td>[]</td>\n",
              "      <td>99760495035266125</td>\n",
              "      <td>switter.at</td>\n",
              "      <td>en</td>\n",
              "      <td>[]</td>\n",
              "      <td>[]</td>\n",
              "      <td>0.0</td>\n",
              "      <td>hormones, work, HRT</td>\n",
              "      <td>[]</td>\n",
              "      <td>semi retirement since testosterone make horny ...</td>\n",
              "    </tr>\n",
              "    <tr>\n",
              "      <th>462327</th>\n",
              "      <td>56</td>\n",
              "      <td>[hey, guy, look, great, follower, also, join, ...</td>\n",
              "      <td>2018-03-28T06:36:45.898Z</td>\n",
              "      <td>[]</td>\n",
              "      <td>99760144767901072</td>\n",
              "      <td>switter.at</td>\n",
              "      <td>en</td>\n",
              "      <td>[{'id': '16', 'type': 'image', 'url': 'https:/...</td>\n",
              "      <td>[]</td>\n",
              "      <td>0.0</td>\n",
              "      <td>NaN</td>\n",
              "      <td>[]</td>\n",
              "      <td>hey guy look great follower also join would think</td>\n",
              "    </tr>\n",
              "    <tr>\n",
              "      <th>462332</th>\n",
              "      <td>69</td>\n",
              "      <td>[sweet, sweet, freedom]</td>\n",
              "      <td>2018-03-28T06:33:32.139Z</td>\n",
              "      <td>[]</td>\n",
              "      <td>99760132068842090</td>\n",
              "      <td>switter.at</td>\n",
              "      <td>en</td>\n",
              "      <td>[{'id': '13', 'type': 'image', 'url': 'https:/...</td>\n",
              "      <td>[]</td>\n",
              "      <td>0.0</td>\n",
              "      <td>NaN</td>\n",
              "      <td>[]</td>\n",
              "      <td>sweet sweet freedom</td>\n",
              "    </tr>\n",
              "  </tbody>\n",
              "</table>\n",
              "<p>168577 rows × 13 columns</p>\n",
              "</div>"
            ],
            "text/plain": [
              "        account_id  ...                                                hi1\n",
              "0             8052  ...  update expanded stock shop browse goody  ellip...\n",
              "1             7900  ...                                                one\n",
              "2             4860  ...  made sale fingering sex machine  ellipsis vide...\n",
              "6              284  ...  another clip sold taunting demonic nail mesmer...\n",
              "8           131657  ...   ellipsis article whose support made law sex r...\n",
              "...            ...  ...                                                ...\n",
              "462103         200  ...   sold video glass dream get  ellipsis glass dream\n",
              "462106         200  ...  hey everyone mark medium sensitive preference ...\n",
              "462243         110  ...  semi retirement since testosterone make horny ...\n",
              "462327          56  ...  hey guy look great follower also join would think\n",
              "462332          69  ...                                sweet sweet freedom\n",
              "\n",
              "[168577 rows x 13 columns]"
            ]
          },
          "metadata": {
            "tags": []
          },
          "execution_count": 51
        }
      ]
    },
    {
      "cell_type": "code",
      "metadata": {
        "id": "KnBzBlwhk9IJ",
        "colab_type": "code",
        "colab": {}
      },
      "source": [
        ""
      ],
      "execution_count": 0,
      "outputs": []
    },
    {
      "cell_type": "code",
      "metadata": {
        "id": "Dxo6-yYPBW5_",
        "colab_type": "code",
        "colab": {}
      },
      "source": [
        "x = data1[\"hi1\"].values\n",
        "y = data1[\"sensitive\"].values\n",
        "xtrain = data1.loc[:400000,'hi1'].values\n",
        "ytrain = data1.loc[:400000,'sensitive'].values\n",
        "xtest  = data1.loc[400001:,'hi1'].values \n",
        "ytest  = data1.loc[400001:,'sensitive'].values"
      ],
      "execution_count": 0,
      "outputs": []
    },
    {
      "cell_type": "code",
      "metadata": {
        "id": "XiMhSmJcButf",
        "colab_type": "code",
        "outputId": "93cb0208-a6ca-40a1-cd06-7c6b01d178aa",
        "colab": {
          "base_uri": "https://localhost:8080/",
          "height": 34
        }
      },
      "source": [
        "import tensorflow\n",
        "import os\n",
        "os.environ['KERAS_BACKEND'] = 'tensorflow'\n",
        "import keras\n",
        "from tensorflow.python.keras.preprocessing.text import Tokenizer\n",
        "from tensorflow.python.keras.preprocessing.sequence import pad_sequences\n",
        "token_obj = Tokenizer()\n",
        "token_obj.fit_on_texts(x)\n",
        "max_length = max([len(s.split()) for s in x])\n",
        "vocab_size = len(token_obj.word_index) + 1\n",
        "xtrain_tokens = token_obj.texts_to_sequences(xtrain)\n",
        "xtest_tokens = token_obj.texts_to_sequences(xtest)\n",
        "xtrain_pad = pad_sequences(xtrain_tokens,maxlen=max_length,padding = 'post')\n",
        "xtest_pad = pad_sequences(xtest_tokens,maxlen=max_length,padding = 'post')"
      ],
      "execution_count": 0,
      "outputs": [
        {
          "output_type": "stream",
          "text": [
            "Using TensorFlow backend.\n"
          ],
          "name": "stderr"
        }
      ]
    },
    {
      "cell_type": "code",
      "metadata": {
        "id": "rYda-i_wGREk",
        "colab_type": "code",
        "outputId": "c18a6841-cf57-42ce-a91c-67c0ca5b2a85",
        "colab": {
          "base_uri": "https://localhost:8080/",
          "height": 34
        }
      },
      "source": [
        "max_length"
      ],
      "execution_count": 0,
      "outputs": [
        {
          "output_type": "execute_result",
          "data": {
            "text/plain": [
              "84"
            ]
          },
          "metadata": {
            "tags": []
          },
          "execution_count": 54
        }
      ]
    },
    {
      "cell_type": "code",
      "metadata": {
        "id": "5E2F4E1Kz5d5",
        "colab_type": "code",
        "colab": {}
      },
      "source": [
        "from gensim.models import Word2Vec\n",
        "from gensim.models import KeyedVectors\n",
        "lis=[]\n",
        "for i in data1['hi1']:\n",
        "     li = list(i.split(\" \"))\n",
        "     lis.append(li)\t\n",
        "model1= Word2Vec(lis,min_count=1,size=300,workers=4,sg = 1)\n",
        "#filename = \"/content/drive/My Drive/GoogleNews-vectors-negative300.bin\"\n",
        "#model1 = KeyedVectors.load_word2vec_format(filename,binary = True)\n",
        "# import os\n",
        "# import numpy as np\n",
        "# embed_index = {}\n",
        "# f = open(os.path.join('','/content/drive/My Drive/GoogleNews-vectors-negative300.bin'),encoding = \"utf-8\")\n",
        "# for line in f:\n",
        "#   values = line.split()\n",
        "#   word = values[0]\n",
        "#   coefs = np.asarray(values[1:])\n",
        "#   embed_index[word] = coefs\n",
        "# f.close()  \n",
        "def getVector(str):\n",
        " if str in model1: \n",
        "   return model1[str]\n",
        " else:\n",
        "   return None;\n",
        "def isInModel(str):\n",
        "   return str in model1"
      ],
      "execution_count": 0,
      "outputs": []
    },
    {
      "cell_type": "code",
      "metadata": {
        "id": "eNqMXOBhcGSp",
        "colab_type": "code",
        "outputId": "38bf700a-771b-4034-a6da-3c863d3aa329",
        "colab": {
          "base_uri": "https://localhost:8080/",
          "height": 34
        }
      },
      "source": [
        "model1"
      ],
      "execution_count": 0,
      "outputs": [
        {
          "output_type": "execute_result",
          "data": {
            "text/plain": [
              "<gensim.models.word2vec.Word2Vec at 0x7fd6148f08d0>"
            ]
          },
          "metadata": {
            "tags": []
          },
          "execution_count": 91
        }
      ]
    },
    {
      "cell_type": "code",
      "metadata": {
        "id": "0yeetD8DUyo0",
        "colab_type": "code",
        "outputId": "b7457a82-1722-4910-fe6b-25d86d9c29dd",
        "colab": {
          "base_uri": "https://localhost:8080/",
          "height": 70
        }
      },
      "source": [
        "embedding_matrix = np.zeros((vocab_size, 300))\n",
        "for word, i in token_obj.word_index.items():\n",
        "\tembedding_vector = getVector(word)\n",
        "\tif embedding_vector is not None:\n",
        "\t\tembedding_matrix[i] = embedding_vector\n"
      ],
      "execution_count": 0,
      "outputs": [
        {
          "output_type": "stream",
          "text": [
            "/usr/local/lib/python3.6/dist-packages/ipykernel_launcher.py:21: DeprecationWarning: Call to deprecated `__contains__` (Method will be removed in 4.0.0, use self.wv.__contains__() instead).\n",
            "/usr/local/lib/python3.6/dist-packages/ipykernel_launcher.py:22: DeprecationWarning: Call to deprecated `__getitem__` (Method will be removed in 4.0.0, use self.wv.__getitem__() instead).\n"
          ],
          "name": "stderr"
        }
      ]
    },
    {
      "cell_type": "code",
      "metadata": {
        "id": "cdYW23Y5Drjq",
        "colab_type": "code",
        "colab": {}
      },
      "source": [
        "from keras.models import Sequential\n",
        "from keras.layers import Dense,Embedding,LSTM,GRU,Dropout,Flatten\n",
        "from keras.layers.embeddings import Embedding\n",
        "\n",
        "embed_dim = 300\n",
        "\n",
        "model = Sequential()\n",
        "model.add(Embedding(vocab_size, 300, weights=[embedding_matrix], input_length=max_length, trainable=False))\n",
        "model.add(Dense(512, input_dim=84, activation='relu'))\n",
        "model.add(Dropout(0.5))\n",
        "model.add(Dense(256, activation='relu'))\n",
        "model.add(Dropout(0.5))\n",
        "model.add(Flatten())\n",
        "model.add(Dense(1,activation = 'sigmoid'))\n",
        "model.compile(optimizer='adam', loss='binary_crossentropy', metrics=['accuracy'])"
      ],
      "execution_count": 0,
      "outputs": []
    },
    {
      "cell_type": "code",
      "metadata": {
        "id": "ZpYVai1WFOJT",
        "colab_type": "code",
        "outputId": "a7053827-47fe-4c70-c806-d5a5be88c4e0",
        "colab": {
          "base_uri": "https://localhost:8080/",
          "height": 386
        }
      },
      "source": [
        "model.summary()"
      ],
      "execution_count": 0,
      "outputs": [
        {
          "output_type": "stream",
          "text": [
            "Model: \"sequential_11\"\n",
            "_________________________________________________________________\n",
            "Layer (type)                 Output Shape              Param #   \n",
            "=================================================================\n",
            "embedding_11 (Embedding)     (None, 84, 300)           7271400   \n",
            "_________________________________________________________________\n",
            "dense_29 (Dense)             (None, 84, 512)           154112    \n",
            "_________________________________________________________________\n",
            "dropout_20 (Dropout)         (None, 84, 512)           0         \n",
            "_________________________________________________________________\n",
            "dense_30 (Dense)             (None, 84, 256)           131328    \n",
            "_________________________________________________________________\n",
            "dropout_21 (Dropout)         (None, 84, 256)           0         \n",
            "_________________________________________________________________\n",
            "flatten_3 (Flatten)          (None, 21504)             0         \n",
            "_________________________________________________________________\n",
            "dense_31 (Dense)             (None, 1)                 21505     \n",
            "=================================================================\n",
            "Total params: 7,578,345\n",
            "Trainable params: 306,945\n",
            "Non-trainable params: 7,271,400\n",
            "_________________________________________________________________\n"
          ],
          "name": "stdout"
        }
      ]
    },
    {
      "cell_type": "code",
      "metadata": {
        "id": "W4nJ-ZVlFN9d",
        "colab_type": "code",
        "outputId": "e23d9494-f094-4228-c5b0-c9438aceafb5",
        "colab": {
          "base_uri": "https://localhost:8080/",
          "height": 370
        }
      },
      "source": [
        "train = model.fit(xtrain_pad, ytrain, epochs=10,shuffle=True,validation_data=(xtest_pad,ytest) ,verbose=2,batch_size =128)"
      ],
      "execution_count": 0,
      "outputs": [
        {
          "output_type": "stream",
          "text": [
            "Train on 400001 samples, validate on 62353 samples\n",
            "Epoch 1/10\n",
            " - 150s - loss: 0.5534 - acc: 0.7258 - val_loss: 0.6116 - val_acc: 0.6956\n",
            "Epoch 2/10\n",
            " - 151s - loss: 0.5517 - acc: 0.7268 - val_loss: 0.5889 - val_acc: 0.7089\n",
            "Epoch 3/10\n",
            " - 151s - loss: 0.5511 - acc: 0.7272 - val_loss: 0.5951 - val_acc: 0.7079\n",
            "Epoch 4/10\n",
            " - 150s - loss: 0.5502 - acc: 0.7280 - val_loss: 0.5988 - val_acc: 0.7028\n",
            "Epoch 5/10\n",
            " - 150s - loss: 0.5492 - acc: 0.7289 - val_loss: 0.5918 - val_acc: 0.7090\n",
            "Epoch 6/10\n",
            " - 149s - loss: 0.5490 - acc: 0.7285 - val_loss: 0.5964 - val_acc: 0.7020\n",
            "Epoch 7/10\n",
            " - 150s - loss: 0.5481 - acc: 0.7300 - val_loss: 0.6044 - val_acc: 0.7006\n",
            "Epoch 8/10\n",
            " - 148s - loss: 0.5479 - acc: 0.7297 - val_loss: 0.5813 - val_acc: 0.7108\n",
            "Epoch 9/10\n",
            " - 149s - loss: 0.5472 - acc: 0.7301 - val_loss: 0.5993 - val_acc: 0.7012\n",
            "Epoch 10/10\n",
            " - 149s - loss: 0.5468 - acc: 0.7302 - val_loss: 0.5858 - val_acc: 0.7090\n"
          ],
          "name": "stdout"
        }
      ]
    },
    {
      "cell_type": "code",
      "metadata": {
        "id": "cpbyNUb8Omo4",
        "colab_type": "code",
        "colab": {}
      },
      "source": [
        "train = model.fit(xtrain_pad, ytrain, epochs=5,validation_data=(xtest_pad,ytest) ,verbose=2,batch_size =128)"
      ],
      "execution_count": 0,
      "outputs": []
    },
    {
      "cell_type": "code",
      "metadata": {
        "id": "89JRRnNoOJag",
        "colab_type": "code",
        "outputId": "757a11a7-f639-4094-e4a5-3407bc9d9577",
        "colab": {
          "base_uri": "https://localhost:8080/",
          "height": 162
        }
      },
      "source": [
        "data1[data1[\"sensitive\" ] == 0]"
      ],
      "execution_count": 1,
      "outputs": [
        {
          "output_type": "error",
          "ename": "NameError",
          "evalue": "ignored",
          "traceback": [
            "\u001b[0;31m---------------------------------------------------------------------------\u001b[0m",
            "\u001b[0;31mNameError\u001b[0m                                 Traceback (most recent call last)",
            "\u001b[0;32m<ipython-input-1-0a0c56012f1d>\u001b[0m in \u001b[0;36m<module>\u001b[0;34m()\u001b[0m\n\u001b[0;32m----> 1\u001b[0;31m \u001b[0mdata1\u001b[0m\u001b[0;34m[\u001b[0m\u001b[0mdata1\u001b[0m\u001b[0;34m[\u001b[0m\u001b[0;34m\"sensitive\"\u001b[0m \u001b[0;34m]\u001b[0m \u001b[0;34m==\u001b[0m \u001b[0;36m0\u001b[0m\u001b[0;34m]\u001b[0m\u001b[0;34m\u001b[0m\u001b[0;34m\u001b[0m\u001b[0m\n\u001b[0m",
            "\u001b[0;31mNameError\u001b[0m: name 'data1' is not defined"
          ]
        }
      ]
    },
    {
      "cell_type": "code",
      "metadata": {
        "id": "YURAW5-OPLy2",
        "colab_type": "code",
        "colab": {}
      },
      "source": [
        "t1 = \"offer today purchasing\"\n",
        "t2 = \"worst movie\"\n",
        "t3 = \"all the protestors were naked in the protest\"\n",
        "t4 = \"porn should be banned\"\n",
        "t5 = \"Everyone is god\"\n",
        "t6 = \"horny account reading interaction two people\"\n",
        "t7 = \"fuck off nude bastard criminal black people\"\n",
        "t8 = \"CUM GET LOST BETWEEN THESE FIRM AND ALL NATURAL 38H&aposs!LAST WEEKEND FOR FIRST VISITOR SPECIAL! CONTACT ME FOR DETAILS...\"\n",
        "t  = [t1,t2,t3,t4,t5,t6,t7,t8]\n",
        "test_samples = token_obj.texts_to_sequences(t)\n",
        "test_samples_pad = pad_sequences(test_samples,maxlen=max_length)"
      ],
      "execution_count": 0,
      "outputs": []
    },
    {
      "cell_type": "code",
      "metadata": {
        "id": "fD_C62G2PiQH",
        "colab_type": "code",
        "outputId": "f4955c42-03da-4a56-d0ce-5aed85f2e492",
        "colab": {
          "base_uri": "https://localhost:8080/",
          "height": 151
        }
      },
      "source": [
        "model.predict(x = test_samples_pad)"
      ],
      "execution_count": 0,
      "outputs": [
        {
          "output_type": "execute_result",
          "data": {
            "text/plain": [
              "array([[0.696215  ],\n",
              "       [0.6943379 ],\n",
              "       [0.7086828 ],\n",
              "       [0.6951828 ],\n",
              "       [0.7041438 ],\n",
              "       [0.7221674 ],\n",
              "       [0.6985232 ],\n",
              "       [0.84026873]], dtype=float32)"
            ]
          },
          "metadata": {
            "tags": []
          },
          "execution_count": 98
        }
      ]
    },
    {
      "cell_type": "code",
      "metadata": {
        "id": "BqyGIVyyP81Q",
        "colab_type": "code",
        "colab": {}
      },
      "source": [
        "scores = model.evaluate(xtrain_pad, ytrain, verbose=0)\n",
        "print(\"%s: %.2f%%\" % (model.metrics_names[1], scores[1]*300))\n",
        "# save model and architecture to single file\n",
        "model.save(\"model.h5\")\n",
        "print(\"Saved model to disk\")"
      ],
      "execution_count": 0,
      "outputs": []
    },
    {
      "cell_type": "code",
      "metadata": {
        "id": "qq5tqEysPi_h",
        "colab_type": "code",
        "colab": {}
      },
      "source": [
        "!pip install h5py"
      ],
      "execution_count": 0,
      "outputs": []
    },
    {
      "cell_type": "code",
      "metadata": {
        "id": "ldR4JTiPPu4g",
        "colab_type": "code",
        "colab": {}
      },
      "source": [
        "from numpy import loadtxt\n",
        "from keras.models import load_model\n",
        " \n",
        "# load model\n",
        "model = load_model('model.h5')\n",
        "# summarize model.\n",
        "model.summary()"
      ],
      "execution_count": 0,
      "outputs": []
    },
    {
      "cell_type": "code",
      "metadata": {
        "id": "MK1jXVtFy_rA",
        "colab_type": "code",
        "colab": {}
      },
      "source": [
        "import json\n",
        "import pandas as pd\n",
        "d2 = [json.loads(line) for line in open('/content/drive/My Drive/instance_metadata.jsonl', 'r')]\n",
        "instance_df= pd.DataFrame(d2)"
      ],
      "execution_count": 0,
      "outputs": []
    },
    {
      "cell_type": "code",
      "metadata": {
        "id": "9d9PQcPSy_ng",
        "colab_type": "code",
        "colab": {}
      },
      "source": [
        "instance_df[instance_df[\"name\"] == \"mastodon.technology\"].prohibited_content"
      ],
      "execution_count": 0,
      "outputs": []
    },
    {
      "cell_type": "code",
      "metadata": {
        "id": "c97Yy9miy_l2",
        "colab_type": "code",
        "colab": {}
      },
      "source": [
        "model1.most_similar(\"nudity\")"
      ],
      "execution_count": 0,
      "outputs": []
    },
    {
      "cell_type": "code",
      "metadata": {
        "id": "mAnV9xiRy_kP",
        "colab_type": "code",
        "colab": {}
      },
      "source": [
        "model1.most_similar(\"pornography\")"
      ],
      "execution_count": 0,
      "outputs": []
    },
    {
      "cell_type": "code",
      "metadata": {
        "id": "_XgUTQWey_hc",
        "colab_type": "code",
        "colab": {}
      },
      "source": [
        "model1.most_similar(\"spam\")"
      ],
      "execution_count": 0,
      "outputs": []
    },
    {
      "cell_type": "code",
      "metadata": {
        "id": "mN53Ed9k1JWF",
        "colab_type": "code",
        "colab": {}
      },
      "source": [
        "model1.most_similar(\"advertising\")"
      ],
      "execution_count": 0,
      "outputs": []
    },
    {
      "cell_type": "code",
      "metadata": {
        "id": "hDdy2xpo1NQo",
        "colab_type": "code",
        "colab": {}
      },
      "source": [
        "model1.most_similar(\"illegal\")"
      ],
      "execution_count": 0,
      "outputs": []
    },
    {
      "cell_type": "code",
      "metadata": {
        "id": "UAHr29Wr2ANO",
        "colab_type": "code",
        "colab": {}
      },
      "source": [
        ""
      ],
      "execution_count": 0,
      "outputs": []
    }
  ]
}